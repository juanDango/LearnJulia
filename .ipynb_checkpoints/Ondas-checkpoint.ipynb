{
 "cells": [
  {
   "cell_type": "code",
   "execution_count": 1,
   "metadata": {},
   "outputs": [
    {
     "data": {
      "text/plain": [
       "π = 3.1415926535897..."
      ]
     },
     "execution_count": 1,
     "metadata": {},
     "output_type": "execute_result"
    }
   ],
   "source": [
    "pi"
   ]
  },
  {
   "cell_type": "code",
   "execution_count": 2,
   "metadata": {},
   "outputs": [
    {
     "data": {
      "text/plain": [
       "6.283185307179586"
      ]
     },
     "execution_count": 2,
     "metadata": {},
     "output_type": "execute_result"
    }
   ],
   "source": [
    "s = 2*pi"
   ]
  },
  {
   "cell_type": "code",
   "execution_count": 3,
   "metadata": {},
   "outputs": [
    {
     "ename": "UndefVarError",
     "evalue": "UndefVarError: arctan not defined",
     "output_type": "error",
     "traceback": [
      "UndefVarError: arctan not defined",
      "",
      "Stacktrace:",
      " [1] top-level scope at In[3]:1"
     ]
    }
   ],
   "source": [
    "arctan(0)"
   ]
  },
  {
   "cell_type": "code",
   "execution_count": 10,
   "metadata": {},
   "outputs": [],
   "source": [
    "using Plots"
   ]
  },
  {
   "cell_type": "code",
   "execution_count": 4,
   "metadata": {},
   "outputs": [
    {
     "data": {
      "text/plain": [
       "0.0"
      ]
     },
     "execution_count": 4,
     "metadata": {},
     "output_type": "execute_result"
    }
   ],
   "source": [
    "atan(0)"
   ]
  },
  {
   "cell_type": "code",
   "execution_count": 5,
   "metadata": {},
   "outputs": [
    {
     "data": {
      "image/svg+xml": [
       "<?xml version=\"1.0\" encoding=\"utf-8\"?>\n",
       "<svg xmlns=\"http://www.w3.org/2000/svg\" xmlns:xlink=\"http://www.w3.org/1999/xlink\" width=\"600\" height=\"400\" viewBox=\"0 0 2400 1600\">\n",
       "<defs>\n",
       "  <clipPath id=\"clip1100\">\n",
       "    <rect x=\"0\" y=\"0\" width=\"2400\" height=\"1600\"/>\n",
       "  </clipPath>\n",
       "</defs>\n",
       "<polygon clip-path=\"url(#clip1100)\" points=\"\n",
       "0,1600 2400,1600 2400,0 0,0 \n",
       "  \" fill=\"#ffffff\" fill-rule=\"evenodd\" fill-opacity=\"1\"/>\n",
       "<defs>\n",
       "  <clipPath id=\"clip1101\">\n",
       "    <rect x=\"480\" y=\"0\" width=\"1681\" height=\"1600\"/>\n",
       "  </clipPath>\n",
       "</defs>\n",
       "<polygon clip-path=\"url(#clip1100)\" points=\"\n",
       "182.008,1487.47 2352.76,1487.47 2352.76,47.2441 182.008,47.2441 \n",
       "  \" fill=\"#ffffff\" fill-rule=\"evenodd\" fill-opacity=\"1\"/>\n",
       "<defs>\n",
       "  <clipPath id=\"clip1102\">\n",
       "    <rect x=\"182\" y=\"47\" width=\"2172\" height=\"1441\"/>\n",
       "  </clipPath>\n",
       "</defs>\n",
       "<polyline clip-path=\"url(#clip1102)\" style=\"stroke:#000000; stroke-width:2; stroke-opacity:0.1; fill:none\" points=\"\n",
       "  238.416,1487.47 238.416,47.2441 \n",
       "  \"/>\n",
       "<polyline clip-path=\"url(#clip1102)\" style=\"stroke:#000000; stroke-width:2; stroke-opacity:0.1; fill:none\" points=\"\n",
       "  566.187,1487.47 566.187,47.2441 \n",
       "  \"/>\n",
       "<polyline clip-path=\"url(#clip1102)\" style=\"stroke:#000000; stroke-width:2; stroke-opacity:0.1; fill:none\" points=\"\n",
       "  893.959,1487.47 893.959,47.2441 \n",
       "  \"/>\n",
       "<polyline clip-path=\"url(#clip1102)\" style=\"stroke:#000000; stroke-width:2; stroke-opacity:0.1; fill:none\" points=\"\n",
       "  1221.73,1487.47 1221.73,47.2441 \n",
       "  \"/>\n",
       "<polyline clip-path=\"url(#clip1102)\" style=\"stroke:#000000; stroke-width:2; stroke-opacity:0.1; fill:none\" points=\"\n",
       "  1549.5,1487.47 1549.5,47.2441 \n",
       "  \"/>\n",
       "<polyline clip-path=\"url(#clip1102)\" style=\"stroke:#000000; stroke-width:2; stroke-opacity:0.1; fill:none\" points=\"\n",
       "  1877.27,1487.47 1877.27,47.2441 \n",
       "  \"/>\n",
       "<polyline clip-path=\"url(#clip1102)\" style=\"stroke:#000000; stroke-width:2; stroke-opacity:0.1; fill:none\" points=\"\n",
       "  2205.04,1487.47 2205.04,47.2441 \n",
       "  \"/>\n",
       "<polyline clip-path=\"url(#clip1102)\" style=\"stroke:#000000; stroke-width:2; stroke-opacity:0.1; fill:none\" points=\"\n",
       "  182.008,1446.79 2352.76,1446.79 \n",
       "  \"/>\n",
       "<polyline clip-path=\"url(#clip1102)\" style=\"stroke:#000000; stroke-width:2; stroke-opacity:0.1; fill:none\" points=\"\n",
       "  182.008,1107.03 2352.76,1107.03 \n",
       "  \"/>\n",
       "<polyline clip-path=\"url(#clip1102)\" style=\"stroke:#000000; stroke-width:2; stroke-opacity:0.1; fill:none\" points=\"\n",
       "  182.008,767.269 2352.76,767.269 \n",
       "  \"/>\n",
       "<polyline clip-path=\"url(#clip1102)\" style=\"stroke:#000000; stroke-width:2; stroke-opacity:0.1; fill:none\" points=\"\n",
       "  182.008,427.507 2352.76,427.507 \n",
       "  \"/>\n",
       "<polyline clip-path=\"url(#clip1102)\" style=\"stroke:#000000; stroke-width:2; stroke-opacity:0.1; fill:none\" points=\"\n",
       "  182.008,87.7462 2352.76,87.7462 \n",
       "  \"/>\n",
       "<polyline clip-path=\"url(#clip1100)\" style=\"stroke:#000000; stroke-width:4; stroke-opacity:1; fill:none\" points=\"\n",
       "  182.008,1487.47 2352.76,1487.47 \n",
       "  \"/>\n",
       "<polyline clip-path=\"url(#clip1100)\" style=\"stroke:#000000; stroke-width:4; stroke-opacity:1; fill:none\" points=\"\n",
       "  182.008,1487.47 182.008,47.2441 \n",
       "  \"/>\n",
       "<polyline clip-path=\"url(#clip1100)\" style=\"stroke:#000000; stroke-width:4; stroke-opacity:1; fill:none\" points=\"\n",
       "  238.416,1487.47 238.416,1465.87 \n",
       "  \"/>\n",
       "<polyline clip-path=\"url(#clip1100)\" style=\"stroke:#000000; stroke-width:4; stroke-opacity:1; fill:none\" points=\"\n",
       "  566.187,1487.47 566.187,1465.87 \n",
       "  \"/>\n",
       "<polyline clip-path=\"url(#clip1100)\" style=\"stroke:#000000; stroke-width:4; stroke-opacity:1; fill:none\" points=\"\n",
       "  893.959,1487.47 893.959,1465.87 \n",
       "  \"/>\n",
       "<polyline clip-path=\"url(#clip1100)\" style=\"stroke:#000000; stroke-width:4; stroke-opacity:1; fill:none\" points=\"\n",
       "  1221.73,1487.47 1221.73,1465.87 \n",
       "  \"/>\n",
       "<polyline clip-path=\"url(#clip1100)\" style=\"stroke:#000000; stroke-width:4; stroke-opacity:1; fill:none\" points=\"\n",
       "  1549.5,1487.47 1549.5,1465.87 \n",
       "  \"/>\n",
       "<polyline clip-path=\"url(#clip1100)\" style=\"stroke:#000000; stroke-width:4; stroke-opacity:1; fill:none\" points=\"\n",
       "  1877.27,1487.47 1877.27,1465.87 \n",
       "  \"/>\n",
       "<polyline clip-path=\"url(#clip1100)\" style=\"stroke:#000000; stroke-width:4; stroke-opacity:1; fill:none\" points=\"\n",
       "  2205.04,1487.47 2205.04,1465.87 \n",
       "  \"/>\n",
       "<polyline clip-path=\"url(#clip1100)\" style=\"stroke:#000000; stroke-width:4; stroke-opacity:1; fill:none\" points=\"\n",
       "  182.008,1446.79 214.569,1446.79 \n",
       "  \"/>\n",
       "<polyline clip-path=\"url(#clip1100)\" style=\"stroke:#000000; stroke-width:4; stroke-opacity:1; fill:none\" points=\"\n",
       "  182.008,1107.03 214.569,1107.03 \n",
       "  \"/>\n",
       "<polyline clip-path=\"url(#clip1100)\" style=\"stroke:#000000; stroke-width:4; stroke-opacity:1; fill:none\" points=\"\n",
       "  182.008,767.269 214.569,767.269 \n",
       "  \"/>\n",
       "<polyline clip-path=\"url(#clip1100)\" style=\"stroke:#000000; stroke-width:4; stroke-opacity:1; fill:none\" points=\"\n",
       "  182.008,427.507 214.569,427.507 \n",
       "  \"/>\n",
       "<polyline clip-path=\"url(#clip1100)\" style=\"stroke:#000000; stroke-width:4; stroke-opacity:1; fill:none\" points=\"\n",
       "  182.008,87.7462 214.569,87.7462 \n",
       "  \"/>\n",
       "<g clip-path=\"url(#clip1100)\">\n",
       "<text style=\"fill:#000000; fill-opacity:1; font-family:Arial,Helvetica Neue,Helvetica,sans-serif; font-size:48px; text-anchor:middle;\" transform=\"rotate(0, 238.416, 1541.47)\" x=\"238.416\" y=\"1541.47\">0</text>\n",
       "</g>\n",
       "<g clip-path=\"url(#clip1100)\">\n",
       "<text style=\"fill:#000000; fill-opacity:1; font-family:Arial,Helvetica Neue,Helvetica,sans-serif; font-size:48px; text-anchor:middle;\" transform=\"rotate(0, 566.187, 1541.47)\" x=\"566.187\" y=\"1541.47\">2</text>\n",
       "</g>\n",
       "<g clip-path=\"url(#clip1100)\">\n",
       "<text style=\"fill:#000000; fill-opacity:1; font-family:Arial,Helvetica Neue,Helvetica,sans-serif; font-size:48px; text-anchor:middle;\" transform=\"rotate(0, 893.959, 1541.47)\" x=\"893.959\" y=\"1541.47\">4</text>\n",
       "</g>\n",
       "<g clip-path=\"url(#clip1100)\">\n",
       "<text style=\"fill:#000000; fill-opacity:1; font-family:Arial,Helvetica Neue,Helvetica,sans-serif; font-size:48px; text-anchor:middle;\" transform=\"rotate(0, 1221.73, 1541.47)\" x=\"1221.73\" y=\"1541.47\">6</text>\n",
       "</g>\n",
       "<g clip-path=\"url(#clip1100)\">\n",
       "<text style=\"fill:#000000; fill-opacity:1; font-family:Arial,Helvetica Neue,Helvetica,sans-serif; font-size:48px; text-anchor:middle;\" transform=\"rotate(0, 1549.5, 1541.47)\" x=\"1549.5\" y=\"1541.47\">8</text>\n",
       "</g>\n",
       "<g clip-path=\"url(#clip1100)\">\n",
       "<text style=\"fill:#000000; fill-opacity:1; font-family:Arial,Helvetica Neue,Helvetica,sans-serif; font-size:48px; text-anchor:middle;\" transform=\"rotate(0, 1877.27, 1541.47)\" x=\"1877.27\" y=\"1541.47\">10</text>\n",
       "</g>\n",
       "<g clip-path=\"url(#clip1100)\">\n",
       "<text style=\"fill:#000000; fill-opacity:1; font-family:Arial,Helvetica Neue,Helvetica,sans-serif; font-size:48px; text-anchor:middle;\" transform=\"rotate(0, 2205.04, 1541.47)\" x=\"2205.04\" y=\"1541.47\">12</text>\n",
       "</g>\n",
       "<g clip-path=\"url(#clip1100)\">\n",
       "<text style=\"fill:#000000; fill-opacity:1; font-family:Arial,Helvetica Neue,Helvetica,sans-serif; font-size:48px; text-anchor:end;\" transform=\"rotate(0, 158.008, 1464.29)\" x=\"158.008\" y=\"1464.29\">-1.0</text>\n",
       "</g>\n",
       "<g clip-path=\"url(#clip1100)\">\n",
       "<text style=\"fill:#000000; fill-opacity:1; font-family:Arial,Helvetica Neue,Helvetica,sans-serif; font-size:48px; text-anchor:end;\" transform=\"rotate(0, 158.008, 1124.53)\" x=\"158.008\" y=\"1124.53\">-0.5</text>\n",
       "</g>\n",
       "<g clip-path=\"url(#clip1100)\">\n",
       "<text style=\"fill:#000000; fill-opacity:1; font-family:Arial,Helvetica Neue,Helvetica,sans-serif; font-size:48px; text-anchor:end;\" transform=\"rotate(0, 158.008, 784.769)\" x=\"158.008\" y=\"784.769\">0.0</text>\n",
       "</g>\n",
       "<g clip-path=\"url(#clip1100)\">\n",
       "<text style=\"fill:#000000; fill-opacity:1; font-family:Arial,Helvetica Neue,Helvetica,sans-serif; font-size:48px; text-anchor:end;\" transform=\"rotate(0, 158.008, 445.007)\" x=\"158.008\" y=\"445.007\">0.5</text>\n",
       "</g>\n",
       "<g clip-path=\"url(#clip1100)\">\n",
       "<text style=\"fill:#000000; fill-opacity:1; font-family:Arial,Helvetica Neue,Helvetica,sans-serif; font-size:48px; text-anchor:end;\" transform=\"rotate(0, 158.008, 105.246)\" x=\"158.008\" y=\"105.246\">1.0</text>\n",
       "</g>\n",
       "<polyline clip-path=\"url(#clip1102)\" style=\"stroke:#009af9; stroke-width:4; stroke-opacity:1; fill:none\" points=\"\n",
       "  243.444,746.424 248.472,725.599 253.5,704.813 258.528,684.086 305.02,498.647 351.512,334.682 374.757,264.944 398.003,205.296 421.249,156.935 444.495,120.833 \n",
       "  458.464,105.348 472.434,94.6687 486.404,88.8739 500.374,88.0053 514.343,92.0693 528.313,101.036 542.283,114.841 556.253,133.384 579.875,175.125 603.498,229.147 \n",
       "  615.309,260.423 627.12,294.33 638.931,330.693 650.742,369.322 702.064,558.357 753.385,767.712 800.699,961.158 848.012,1138.56 860.694,1181.44 873.375,1221.84 \n",
       "  886.056,1259.53 898.738,1294.26 924.1,1354.09 949.463,1399.89 964.155,1419.56 978.848,1433.99 993.54,1443.07 1008.23,1446.71 1022.93,1444.9 1037.62,1437.65 \n",
       "  1052.31,1425.01 1067,1407.09 1093.12,1362.68 1119.23,1303.17 1145.35,1230.09 1171.46,1145.29 1217.26,974.866 1263.06,788.337 1312.99,583.613 1362.92,395.806 \n",
       "  1388.04,313.302 1413.15,241.438 1438.27,181.899 1463.39,136.08 1477.27,117.046 1491.15,102.676 1505.04,93.0728 1518.92,88.3054 1532.81,88.4081 1546.69,93.3802 \n",
       "  1560.57,103.186 1574.46,117.755 1600.88,158.233 1627.3,214.505 1640.51,248.124 1653.72,285.113 1666.93,325.234 1680.14,368.225 1735.08,571.397 1790.02,796.378 \n",
       "  1836.27,984.284 1882.52,1155.02 1896.64,1201.59 1910.76,1244.94 1924.87,1284.75 1938.99,1320.72 1953.11,1352.58 1967.22,1380.11 1981.34,1403.09 1995.46,1421.36 \n",
       "  2008.73,1434.11 2022,1442.5 2035.26,1446.45 2048.53,1445.96 2061.8,1441.02 2075.07,1431.67 2088.34,1417.96 2101.61,1399.99 2122.87,1362.61 2144.13,1315.23 \n",
       "  2165.39,1258.65 2186.65,1193.8 2229.17,1043.82 2271.69,875.333 2278.23,848.468 2284.78,821.473 2291.32,794.393 \n",
       "  \"/>\n",
       "<polygon clip-path=\"url(#clip1100)\" points=\"\n",
       "1989.93,251.724 2280.76,251.724 2280.76,130.764 1989.93,130.764 \n",
       "  \" fill=\"#ffffff\" fill-rule=\"evenodd\" fill-opacity=\"1\"/>\n",
       "<polyline clip-path=\"url(#clip1100)\" style=\"stroke:#000000; stroke-width:4; stroke-opacity:1; fill:none\" points=\"\n",
       "  1989.93,251.724 2280.76,251.724 2280.76,130.764 1989.93,130.764 1989.93,251.724 \n",
       "  \"/>\n",
       "<polyline clip-path=\"url(#clip1100)\" style=\"stroke:#009af9; stroke-width:4; stroke-opacity:1; fill:none\" points=\"\n",
       "  2013.93,191.244 2157.93,191.244 \n",
       "  \"/>\n",
       "<g clip-path=\"url(#clip1100)\">\n",
       "<text style=\"fill:#000000; fill-opacity:1; font-family:Arial,Helvetica Neue,Helvetica,sans-serif; font-size:48px; text-anchor:start;\" transform=\"rotate(0, 2181.93, 208.744)\" x=\"2181.93\" y=\"208.744\">y1</text>\n",
       "</g>\n",
       "</svg>\n"
      ]
     },
     "execution_count": 5,
     "metadata": {},
     "output_type": "execute_result"
    }
   ],
   "source": [
    "plot(sin, 0, 4pi)"
   ]
  },
  {
   "cell_type": "code",
   "execution_count": 4,
   "metadata": {},
   "outputs": [
    {
     "data": {
      "text/plain": [
       "0.0:0.004008016032064128:2.0"
      ]
     },
     "execution_count": 4,
     "metadata": {},
     "output_type": "execute_result"
    }
   ],
   "source": [
    "x = range(0,stop=2,length=500)"
   ]
  },
  {
   "cell_type": "code",
   "execution_count": 5,
   "metadata": {},
   "outputs": [
    {
     "data": {
      "text/plain": [
       "500-element Array{Float64,1}:\n",
       " 10.0              \n",
       "  9.980188142145753\n",
       "  9.92083107052534 \n",
       "  9.822163979911878\n",
       "  9.684577825980192\n",
       "  9.508617776195164\n",
       "  9.294981049655668\n",
       "  9.044514154453433\n",
       "  8.758209533493446\n",
       "  8.437201632066401\n",
       "  8.082762402754934\n",
       "  7.696296265484861\n",
       "  7.279334542691597\n",
       "  ⋮                \n",
       "  7.696296265484844\n",
       "  8.082762402754918\n",
       "  8.437201632066404\n",
       "  8.758209533493446\n",
       "  9.044514154453433\n",
       "  9.294981049655668\n",
       "  9.508617776195164\n",
       "  9.68457782598019 \n",
       "  9.822163979911876\n",
       "  9.920831070525338\n",
       "  9.980188142145753\n",
       " 10.0              "
      ]
     },
     "execution_count": 5,
     "metadata": {},
     "output_type": "execute_result"
    }
   ],
   "source": [
    "y = 10 * cos.(5*pi*x)"
   ]
  },
  {
   "cell_type": "code",
   "execution_count": 8,
   "metadata": {},
   "outputs": [
    {
     "data": {
      "text/plain": [
       "1.0471975511965976:0.0:1.0471975511965976"
      ]
     },
     "execution_count": 8,
     "metadata": {},
     "output_type": "execute_result"
    }
   ],
   "source": [
    "a = range(pi/3,stop=pi/3,length=500)"
   ]
  },
  {
   "cell_type": "code",
   "execution_count": 7,
   "metadata": {},
   "outputs": [
    {
     "data": {
      "text/plain": [
       "10.0:0.004008016032064128:12.0"
      ]
     },
     "execution_count": 7,
     "metadata": {},
     "output_type": "execute_result"
    }
   ],
   "source": [
    "z = a + x"
   ]
  },
  {
   "cell_type": "code",
   "execution_count": 9,
   "metadata": {},
   "outputs": [
    {
     "data": {
      "text/plain": [
       "500-element Array{Float64,1}:\n",
       "  5.000000000000001 \n",
       "  3.872834203787052 \n",
       "  2.6843467799847707\n",
       "  1.4533559840004593\n",
       "  0.1993530605363658\n",
       " -1.05780637660576  \n",
       " -2.298216734062414 \n",
       " -3.502237619811776 \n",
       " -4.65080482493586  \n",
       " -5.725732182222795 \n",
       " -6.709999522044692 \n",
       " -7.588022166079437 \n",
       " -8.345897691770482 \n",
       "  ⋮                 \n",
       "  9.434617407302685 \n",
       "  9.776209133922439 \n",
       "  9.963006458251588 \n",
       "  9.992051671450957 \n",
       "  9.862884877833476 \n",
       "  9.577551276754017 \n",
       "  9.140568779360702 \n",
       "  8.55885647295709  \n",
       "  7.841625065655226 \n",
       "  7.000231045995444 \n",
       "  6.047996866738314 \n",
       "  5.000000000000032 "
      ]
     },
     "execution_count": 9,
     "metadata": {},
     "output_type": "execute_result"
    }
   ],
   "source": [
    "z = 10*cos.(10*pi*x+a)"
   ]
  },
  {
   "cell_type": "code",
   "execution_count": 11,
   "metadata": {},
   "outputs": [
    {
     "data": {
      "image/svg+xml": [
       "<?xml version=\"1.0\" encoding=\"utf-8\"?>\n",
       "<svg xmlns=\"http://www.w3.org/2000/svg\" xmlns:xlink=\"http://www.w3.org/1999/xlink\" width=\"600\" height=\"400\" viewBox=\"0 0 2400 1600\">\n",
       "<defs>\n",
       "  <clipPath id=\"clip0500\">\n",
       "    <rect x=\"0\" y=\"0\" width=\"2400\" height=\"1600\"/>\n",
       "  </clipPath>\n",
       "</defs>\n",
       "<polygon clip-path=\"url(#clip0500)\" points=\"\n",
       "0,1600 2400,1600 2400,0 0,0 \n",
       "  \" fill=\"#ffffff\" fill-rule=\"evenodd\" fill-opacity=\"1\"/>\n",
       "<defs>\n",
       "  <clipPath id=\"clip0501\">\n",
       "    <rect x=\"480\" y=\"0\" width=\"1681\" height=\"1600\"/>\n",
       "  </clipPath>\n",
       "</defs>\n",
       "<polygon clip-path=\"url(#clip0500)\" points=\"\n",
       "168.627,1487.47 2352.76,1487.47 2352.76,47.2441 168.627,47.2441 \n",
       "  \" fill=\"#ffffff\" fill-rule=\"evenodd\" fill-opacity=\"1\"/>\n",
       "<defs>\n",
       "  <clipPath id=\"clip0502\">\n",
       "    <rect x=\"168\" y=\"47\" width=\"2185\" height=\"1441\"/>\n",
       "  </clipPath>\n",
       "</defs>\n",
       "<polyline clip-path=\"url(#clip0502)\" style=\"stroke:#000000; stroke-width:2; stroke-opacity:0.1; fill:none\" points=\"\n",
       "  230.421,1487.47 230.421,47.2441 \n",
       "  \"/>\n",
       "<polyline clip-path=\"url(#clip0502)\" style=\"stroke:#000000; stroke-width:2; stroke-opacity:0.1; fill:none\" points=\"\n",
       "  745.551,1487.47 745.551,47.2441 \n",
       "  \"/>\n",
       "<polyline clip-path=\"url(#clip0502)\" style=\"stroke:#000000; stroke-width:2; stroke-opacity:0.1; fill:none\" points=\"\n",
       "  1260.68,1487.47 1260.68,47.2441 \n",
       "  \"/>\n",
       "<polyline clip-path=\"url(#clip0502)\" style=\"stroke:#000000; stroke-width:2; stroke-opacity:0.1; fill:none\" points=\"\n",
       "  1775.81,1487.47 1775.81,47.2441 \n",
       "  \"/>\n",
       "<polyline clip-path=\"url(#clip0502)\" style=\"stroke:#000000; stroke-width:2; stroke-opacity:0.1; fill:none\" points=\"\n",
       "  2290.94,1487.47 2290.94,47.2441 \n",
       "  \"/>\n",
       "<polyline clip-path=\"url(#clip0502)\" style=\"stroke:#000000; stroke-width:2; stroke-opacity:0.1; fill:none\" points=\"\n",
       "  168.627,1446.72 2352.76,1446.72 \n",
       "  \"/>\n",
       "<polyline clip-path=\"url(#clip0502)\" style=\"stroke:#000000; stroke-width:2; stroke-opacity:0.1; fill:none\" points=\"\n",
       "  168.627,1107.04 2352.76,1107.04 \n",
       "  \"/>\n",
       "<polyline clip-path=\"url(#clip0502)\" style=\"stroke:#000000; stroke-width:2; stroke-opacity:0.1; fill:none\" points=\"\n",
       "  168.627,767.362 2352.76,767.362 \n",
       "  \"/>\n",
       "<polyline clip-path=\"url(#clip0502)\" style=\"stroke:#000000; stroke-width:2; stroke-opacity:0.1; fill:none\" points=\"\n",
       "  168.627,427.683 2352.76,427.683 \n",
       "  \"/>\n",
       "<polyline clip-path=\"url(#clip0502)\" style=\"stroke:#000000; stroke-width:2; stroke-opacity:0.1; fill:none\" points=\"\n",
       "  168.627,88.0038 2352.76,88.0038 \n",
       "  \"/>\n",
       "<polyline clip-path=\"url(#clip0500)\" style=\"stroke:#000000; stroke-width:4; stroke-opacity:1; fill:none\" points=\"\n",
       "  168.627,1487.47 2352.76,1487.47 \n",
       "  \"/>\n",
       "<polyline clip-path=\"url(#clip0500)\" style=\"stroke:#000000; stroke-width:4; stroke-opacity:1; fill:none\" points=\"\n",
       "  168.627,1487.47 168.627,47.2441 \n",
       "  \"/>\n",
       "<polyline clip-path=\"url(#clip0500)\" style=\"stroke:#000000; stroke-width:4; stroke-opacity:1; fill:none\" points=\"\n",
       "  230.421,1487.47 230.421,1465.87 \n",
       "  \"/>\n",
       "<polyline clip-path=\"url(#clip0500)\" style=\"stroke:#000000; stroke-width:4; stroke-opacity:1; fill:none\" points=\"\n",
       "  745.551,1487.47 745.551,1465.87 \n",
       "  \"/>\n",
       "<polyline clip-path=\"url(#clip0500)\" style=\"stroke:#000000; stroke-width:4; stroke-opacity:1; fill:none\" points=\"\n",
       "  1260.68,1487.47 1260.68,1465.87 \n",
       "  \"/>\n",
       "<polyline clip-path=\"url(#clip0500)\" style=\"stroke:#000000; stroke-width:4; stroke-opacity:1; fill:none\" points=\"\n",
       "  1775.81,1487.47 1775.81,1465.87 \n",
       "  \"/>\n",
       "<polyline clip-path=\"url(#clip0500)\" style=\"stroke:#000000; stroke-width:4; stroke-opacity:1; fill:none\" points=\"\n",
       "  2290.94,1487.47 2290.94,1465.87 \n",
       "  \"/>\n",
       "<polyline clip-path=\"url(#clip0500)\" style=\"stroke:#000000; stroke-width:4; stroke-opacity:1; fill:none\" points=\"\n",
       "  168.627,1446.72 201.389,1446.72 \n",
       "  \"/>\n",
       "<polyline clip-path=\"url(#clip0500)\" style=\"stroke:#000000; stroke-width:4; stroke-opacity:1; fill:none\" points=\"\n",
       "  168.627,1107.04 201.389,1107.04 \n",
       "  \"/>\n",
       "<polyline clip-path=\"url(#clip0500)\" style=\"stroke:#000000; stroke-width:4; stroke-opacity:1; fill:none\" points=\"\n",
       "  168.627,767.362 201.389,767.362 \n",
       "  \"/>\n",
       "<polyline clip-path=\"url(#clip0500)\" style=\"stroke:#000000; stroke-width:4; stroke-opacity:1; fill:none\" points=\"\n",
       "  168.627,427.683 201.389,427.683 \n",
       "  \"/>\n",
       "<polyline clip-path=\"url(#clip0500)\" style=\"stroke:#000000; stroke-width:4; stroke-opacity:1; fill:none\" points=\"\n",
       "  168.627,88.0038 201.389,88.0038 \n",
       "  \"/>\n",
       "<g clip-path=\"url(#clip0500)\">\n",
       "<text style=\"fill:#000000; fill-opacity:1; font-family:Arial,Helvetica Neue,Helvetica,sans-serif; font-size:48px; text-anchor:middle;\" transform=\"rotate(0, 230.421, 1541.47)\" x=\"230.421\" y=\"1541.47\">-10</text>\n",
       "</g>\n",
       "<g clip-path=\"url(#clip0500)\">\n",
       "<text style=\"fill:#000000; fill-opacity:1; font-family:Arial,Helvetica Neue,Helvetica,sans-serif; font-size:48px; text-anchor:middle;\" transform=\"rotate(0, 745.551, 1541.47)\" x=\"745.551\" y=\"1541.47\">-5</text>\n",
       "</g>\n",
       "<g clip-path=\"url(#clip0500)\">\n",
       "<text style=\"fill:#000000; fill-opacity:1; font-family:Arial,Helvetica Neue,Helvetica,sans-serif; font-size:48px; text-anchor:middle;\" transform=\"rotate(0, 1260.68, 1541.47)\" x=\"1260.68\" y=\"1541.47\">0</text>\n",
       "</g>\n",
       "<g clip-path=\"url(#clip0500)\">\n",
       "<text style=\"fill:#000000; fill-opacity:1; font-family:Arial,Helvetica Neue,Helvetica,sans-serif; font-size:48px; text-anchor:middle;\" transform=\"rotate(0, 1775.81, 1541.47)\" x=\"1775.81\" y=\"1541.47\">5</text>\n",
       "</g>\n",
       "<g clip-path=\"url(#clip0500)\">\n",
       "<text style=\"fill:#000000; fill-opacity:1; font-family:Arial,Helvetica Neue,Helvetica,sans-serif; font-size:48px; text-anchor:middle;\" transform=\"rotate(0, 2290.94, 1541.47)\" x=\"2290.94\" y=\"1541.47\">10</text>\n",
       "</g>\n",
       "<g clip-path=\"url(#clip0500)\">\n",
       "<text style=\"fill:#000000; fill-opacity:1; font-family:Arial,Helvetica Neue,Helvetica,sans-serif; font-size:48px; text-anchor:end;\" transform=\"rotate(0, 144.627, 1464.22)\" x=\"144.627\" y=\"1464.22\">-10</text>\n",
       "</g>\n",
       "<g clip-path=\"url(#clip0500)\">\n",
       "<text style=\"fill:#000000; fill-opacity:1; font-family:Arial,Helvetica Neue,Helvetica,sans-serif; font-size:48px; text-anchor:end;\" transform=\"rotate(0, 144.627, 1124.54)\" x=\"144.627\" y=\"1124.54\">-5</text>\n",
       "</g>\n",
       "<g clip-path=\"url(#clip0500)\">\n",
       "<text style=\"fill:#000000; fill-opacity:1; font-family:Arial,Helvetica Neue,Helvetica,sans-serif; font-size:48px; text-anchor:end;\" transform=\"rotate(0, 144.627, 784.862)\" x=\"144.627\" y=\"784.862\">0</text>\n",
       "</g>\n",
       "<g clip-path=\"url(#clip0500)\">\n",
       "<text style=\"fill:#000000; fill-opacity:1; font-family:Arial,Helvetica Neue,Helvetica,sans-serif; font-size:48px; text-anchor:end;\" transform=\"rotate(0, 144.627, 445.183)\" x=\"144.627\" y=\"445.183\">5</text>\n",
       "</g>\n",
       "<g clip-path=\"url(#clip0500)\">\n",
       "<text style=\"fill:#000000; fill-opacity:1; font-family:Arial,Helvetica Neue,Helvetica,sans-serif; font-size:48px; text-anchor:end;\" transform=\"rotate(0, 144.627, 105.504)\" x=\"144.627\" y=\"105.504\">10</text>\n",
       "</g>\n",
       "<polyline clip-path=\"url(#clip0502)\" style=\"stroke:#009af9; stroke-width:4; stroke-opacity:1; fill:none\" points=\"\n",
       "  2290.94,427.683 2288.9,504.258 2282.78,584.998 2272.62,668.627 2258.44,753.818 2240.32,839.225 2218.31,923.493 2192.5,1005.29 2163,1083.32 2129.93,1156.34 \n",
       "  2093.42,1223.21 2053.6,1282.86 2010.64,1334.35 1964.71,1376.86 1915.99,1409.71 1864.68,1432.4 1810.97,1444.56 1755.08,1446 1697.23,1436.69 1637.65,1416.78 \n",
       "  1576.58,1386.59 1514.26,1346.59 1450.93,1297.42 1386.85,1239.86 1322.26,1174.82 1257.44,1103.33 1192.62,1026.52 1128.08,945.601 1064.06,861.863 1000.82,776.628 \n",
       "  938.614,691.247 877.681,607.071 818.265,525.433 760.603,447.626 704.921,374.881 651.442,308.35 600.377,249.088 551.929,198.032 506.288,155.99 463.637,123.629 \n",
       "  424.144,101.46 387.966,89.8356 355.246,88.9386 326.113,98.7836 300.683,119.215 279.058,149.909 261.322,190.379 247.545,239.985 237.784,297.942 232.075,363.331 \n",
       "  230.442,435.118 232.891,512.165 239.413,593.253 249.981,677.098 264.554,762.372 283.074,847.725 305.468,931.805 331.647,1013.28 361.506,1090.87 394.929,1163.33 \n",
       "  431.782,1229.52 471.92,1288.39 515.183,1339.01 561.4,1380.59 610.387,1412.45 661.952,1434.1 715.888,1445.19 771.984,1445.55 830.016,1435.17 889.754,1414.21 \n",
       "  950.962,1383.02 1013.4,1342.08 1076.81,1292.03 1140.96,1233.68 1205.57,1167.95 1270.41,1095.87 1335.21,1018.59 1399.71,937.333 1463.66,853.385 1526.81,768.075 \n",
       "  1588.9,682.753 1649.7,598.771 1708.95,517.459 1766.42,440.104 1821.89,367.93 1875.14,302.081 1925.95,243.599 1974.13,193.41 2019.48,152.309 2061.82,120.946 \n",
       "  2100.99,99.8191 2136.83,89.2616 2169.19,89.441 2197.96,100.354 2223.01,121.829 2244.25,153.525 2261.6,194.94 2274.97,245.419 2284.33,304.162 2289.63,370.24 \n",
       "  2290.86,442.605 2288,520.113 2281.07,601.535 2270.1,685.583 2255.13,770.926 2236.22,856.212 2213.45,940.092 2186.89,1021.24 2156.67,1098.36 2122.9,1170.25 \n",
       "  2085.71,1235.75 2045.25,1293.84 2001.69,1343.59 1955.19,1384.22 1905.93,1415.08 1854.12,1435.69 1799.96,1445.71 1743.66,1444.99 1685.45,1433.54 1625.55,1411.55 \n",
       "  1564.21,1379.35 1501.66,1337.47 1438.16,1286.56 1373.96,1227.42 1309.31,1161.01 1244.47,1088.36 1179.69,1010.62 1115.23,929.037 1051.34,844.893 988.292,759.521 \n",
       "  926.318,674.272 865.669,590.498 806.585,509.525 749.301,432.633 694.043,361.042 641.03,295.885 590.472,238.192 542.57,188.879 497.513,148.725 455.481,118.366 \n",
       "  416.638,98.2836 381.141,88.7951 349.128,90.0508 320.727,102.031 296.051,124.546 275.197,157.239 258.248,199.592 245.27,250.936 236.317,310.457 231.422,377.212 \n",
       "  230.605,450.144 233.87,528.1 241.204,609.843 252.577,694.081 267.945,779.479 287.246,864.686 310.404,948.351 337.328,1029.15 367.91,1105.81 402.03,1177.1 \n",
       "  439.552,1241.91 480.328,1299.2 524.196,1348.08 570.982,1387.75 620.5,1417.61 672.556,1437.17 726.942,1446.12 783.443,1444.33 841.834,1431.81 901.886,1408.78 \n",
       "  963.359,1375.59 1026.01,1332.77 1089.59,1281 1153.85,1221.09 1218.53,1154 1283.38,1080.79 1348.14,1002.62 1412.55,920.716 1476.36,836.389 1539.32,750.968 \n",
       "  1601.17,665.807 1661.68,582.253 1720.59,501.631 1777.68,425.216 1832.73,354.219 1885.5,289.763 1935.8,232.87 1983.43,184.44 2028.19,145.239 2069.91,115.889 \n",
       "  2108.43,96.8542 2143.58,88.4361 2175.24,90.768 2203.27,103.813 2227.57,127.364 2248.04,161.049 2264.59,204.335 2277.17,256.535 2285.72,316.823 2290.21,384.245 \n",
       "  2290.61,457.733 2286.94,536.124 2279.2,618.177 2267.43,702.591 2251.66,788.031 2231.97,873.144 2208.43,956.582 2181.14,1037.02 2150.2,1113.2 2115.73,1183.89 \n",
       "  2077.88,1247.99 2036.78,1304.48 1992.62,1352.47 1945.55,1391.19 1895.77,1420.03 1843.47,1438.54 1788.86,1446.43 1732.16,1443.56 1673.59,1429.98 1613.39,1405.91 \n",
       "  1551.79,1371.73 1489.03,1327.98 1425.37,1275.36 1361.06,1214.69 1296.35,1146.94 1231.5,1073.18 1166.76,994.573 1102.4,912.371 1038.66,827.873 975.803,742.418 \n",
       "  914.074,657.357 853.719,574.038 794.977,493.78 738.08,417.854 683.253,347.461 630.715,283.718 580.673,227.632 533.325,180.093 488.859,141.852 447.452,113.515 \n",
       "  409.267,95.5311 374.455,88.1848 343.155,91.5925 315.491,105.7 291.572,130.284 271.492,164.956 255.333,209.166 243.156,262.214 235.012,323.261 230.932,391.34 \n",
       "  230.932,465.372 235.012,544.186 243.156,626.534 255.333,711.111 271.492,796.579 291.572,881.585 315.491,964.782 343.155,1044.85 374.455,1120.53 409.267,1190.62 \n",
       "  447.452,1254 488.859,1309.68 533.325,1356.77 580.673,1394.53 630.715,1422.36 683.253,1439.81 738.08,1446.62 794.977,1442.68 853.719,1428.04 914.074,1402.94 \n",
       "  975.803,1367.78 1038.66,1323.11 1102.4,1269.64 1166.76,1208.22 1231.5,1139.81 1296.35,1065.51 1361.06,986.493 1425.37,904.003 1489.03,819.349 1551.79,733.871 \n",
       "  1613.39,648.924 1673.59,565.853 1732.16,485.972 1788.86,410.546 1843.47,340.77 1895.77,277.749 1945.55,222.48 1992.62,175.839 2036.78,138.564 2077.88,111.245 \n",
       "  2115.73,94.3145 2150.2,88.0412 2181.14,92.5241 2208.43,107.692 2231.97,133.305 2251.66,168.958 2267.43,214.086 2279.2,267.974 2286.94,329.769 2290.61,398.494 \n",
       "  2290.21,473.058 2285.72,552.283 2277.17,634.913 2264.59,719.64 2248.04,805.123 2227.57,890.008 2203.27,972.951 2175.24,1052.64 2143.58,1127.81 2108.43,1197.27 \n",
       "  2069.91,1259.93 2028.19,1314.79 1983.43,1360.98 1935.8,1397.77 1885.5,1424.57 1832.73,1440.98 1777.68,1446.71 1720.59,1441.69 1661.68,1426 1601.17,1399.87 \n",
       "  1539.32,1363.73 1476.36,1318.14 1412.55,1263.84 1348.14,1201.67 1283.38,1132.63 1218.53,1057.8 1153.85,978.379 1089.59,895.613 1026.01,810.816 963.359,725.331 \n",
       "  901.886,640.511 841.834,557.7 783.443,478.208 726.942,403.295 672.556,334.147 620.5,271.858 570.982,217.415 524.196,171.679 480.328,135.375 439.552,109.078 \n",
       "  402.03,93.2047 367.91,88.0053 337.328,93.5628 310.404,109.789 287.246,136.427 267.945,173.055 252.577,219.094 241.204,273.813 233.87,336.347 230.605,405.706 \n",
       "  231.422,480.791 236.317,560.414 245.27,643.313 258.248,728.177 275.197,813.661 296.051,898.412 320.727,981.088 349.128,1060.38 381.141,1135.03 416.638,1203.86 \n",
       "  455.481,1265.78 497.513,1319.81 542.57,1365.09 590.472,1400.9 641.03,1426.69 694.043,1442.03 749.301,1446.7 806.585,1440.6 865.669,1423.85 926.318,1396.7 \n",
       "  988.292,1359.58 1051.34,1313.09 1115.23,1257.96 1179.69,1195.06 1244.47,1125.39 1309.31,1050.05 1373.96,970.232 1438.16,887.202 1501.66,802.276 1564.21,716.796 \n",
       "  1625.55,632.117 1685.45,549.58 1743.66,470.491 1799.96,396.102 1854.12,327.592 1905.93,266.045 1955.19,212.436 2001.69,167.614 2045.25,132.287 2085.71,107.017 \n",
       "  2122.9,92.2017 2156.67,88.0771 2186.89,94.7082 2213.45,111.99 2236.22,139.649 2255.13,177.247 2270.1,224.188 2281.07,279.73 2288,342.993 2290.86,412.976 \n",
       "  2289.63,488.57 2284.33,568.578 2274.97,651.733 2261.6,736.72 2244.25,822.191 2223.01,906.795 2197.96,989.19 2169.19,1068.07 2136.83,1142.2 2100.99,1210.38 \n",
       "  2061.82,1271.55 2019.48,1324.74 1974.13,1369.11 1925.95,1403.94 1875.14,1428.7 1821.89,1442.98 1766.42,1446.57 1708.95,1439.4 1649.7,1421.59 1588.9,1393.43 \n",
       "  1526.81,1355.35 1463.66,1307.96 1399.71,1252.01 1335.21,1188.38 1270.41,1118.09 1205.57,1042.25 1140.96,962.052 1076.81,878.773 1013.4,793.73 950.962,708.27 \n",
       "  889.754,623.745 830.016,541.495 771.984,462.82 715.888,388.968 661.952,321.107 610.387,260.312 561.4,207.546 515.183,163.643 471.92,129.3 431.782,105.059 \n",
       "  394.929,91.3058 361.506,88.2566 331.647,95.9603 305.468,114.295 283.074,142.97 264.554,181.531 249.981,229.369 239.413,285.725 232.891,349.707 230.442,420.302 \n",
       "  232.075,496.392 237.784,576.773 247.545,660.171 261.322,745.267 279.058,830.713 300.683,915.155 326.113,997.258 355.246,1075.72 387.966,1149.3 424.144,1216.83 \n",
       "  463.637,1277.25 506.288,1329.59 551.929,1373.03 600.377,1406.88 651.442,1430.6 704.921,1443.83 760.603,1446.34 818.265,1438.1 877.681,1419.24 938.614,1390.06 \n",
       "  1000.82,1351.01 1064.06,1302.73 1128.08,1245.97 1192.62,1181.64 1257.44,1110.74 1322.26,1034.4 1386.85,953.841 1450.93,870.326 1514.26,785.181 1576.58,699.753 \n",
       "  1637.65,615.396 1697.23,533.445 1755.08,455.198 1810.97,381.894 1864.68,314.693 1915.99,254.659 1964.71,202.744 2010.64,159.768 2053.6,126.414 2093.42,103.207 \n",
       "  2129.93,90.517 2163,88.5438 2192.5,97.3189 2218.31,116.703 2240.32,146.39 2258.44,185.909 2272.62,234.635 2282.78,291.795 2288.9,356.486 2290.94,427.683 \n",
       "  \n",
       "  \"/>\n",
       "<polygon clip-path=\"url(#clip0500)\" points=\"\n",
       "1989.93,251.724 2280.76,251.724 2280.76,130.764 1989.93,130.764 \n",
       "  \" fill=\"#ffffff\" fill-rule=\"evenodd\" fill-opacity=\"1\"/>\n",
       "<polyline clip-path=\"url(#clip0500)\" style=\"stroke:#000000; stroke-width:4; stroke-opacity:1; fill:none\" points=\"\n",
       "  1989.93,251.724 2280.76,251.724 2280.76,130.764 1989.93,130.764 1989.93,251.724 \n",
       "  \"/>\n",
       "<polyline clip-path=\"url(#clip0500)\" style=\"stroke:#009af9; stroke-width:4; stroke-opacity:1; fill:none\" points=\"\n",
       "  2013.93,191.244 2157.93,191.244 \n",
       "  \"/>\n",
       "<g clip-path=\"url(#clip0500)\">\n",
       "<text style=\"fill:#000000; fill-opacity:1; font-family:Arial,Helvetica Neue,Helvetica,sans-serif; font-size:48px; text-anchor:start;\" transform=\"rotate(0, 2181.93, 208.744)\" x=\"2181.93\" y=\"208.744\">y1</text>\n",
       "</g>\n",
       "</svg>\n"
      ]
     },
     "execution_count": 11,
     "metadata": {},
     "output_type": "execute_result"
    }
   ],
   "source": [
    "plot(y,z)"
   ]
  },
  {
   "cell_type": "code",
   "execution_count": 20,
   "metadata": {},
   "outputs": [
    {
     "data": {
      "text/plain": [
       "0.0:0.02004008016032064:10.0"
      ]
     },
     "execution_count": 20,
     "metadata": {},
     "output_type": "execute_result"
    }
   ],
   "source": [
    "x = range(0,stop=10,length=500)"
   ]
  },
  {
   "cell_type": "code",
   "execution_count": 21,
   "metadata": {},
   "outputs": [
    {
     "data": {
      "text/plain": [
       "500-element Array{Float64,1}:\n",
       "  1.0                \n",
       "  0.7696296265484862 \n",
       "  0.18465952412232467\n",
       " -0.4853907453707146 \n",
       " -0.9318017203018332 \n",
       " -0.9488936746555593 \n",
       " -0.5287916486169243 \n",
       "  0.13494623656155547\n",
       "  0.7365088919149115 \n",
       "  0.9987318903066703 \n",
       "  0.8007984116026609 \n",
       "  0.2339044746180835 \n",
       " -0.4407587847059906 \n",
       "  ⋮                  \n",
       "  0.2339044746180333 \n",
       "  0.8007984116026394 \n",
       "  0.9987318903066741 \n",
       "  0.7365088919149531 \n",
       "  0.1349462365616005 \n",
       " -0.5287916486168993 \n",
       " -0.948893674655537  \n",
       " -0.9318017203018533 \n",
       " -0.4853907453707489 \n",
       "  0.18465952412230138\n",
       "  0.7696296265484448 \n",
       "  1.0                "
      ]
     },
     "execution_count": 21,
     "metadata": {},
     "output_type": "execute_result"
    }
   ],
   "source": [
    "a = cos.(11*pi*x)"
   ]
  },
  {
   "cell_type": "code",
   "execution_count": 22,
   "metadata": {},
   "outputs": [
    {
     "data": {
      "text/plain": [
       "500-element Array{Float64,1}:\n",
       " 1.0               \n",
       " 0.9980188142145753\n",
       " 0.992083107052534 \n",
       " 0.9822163979911878\n",
       " 0.9684577825980192\n",
       " 0.9508617776195164\n",
       " 0.9294981049655668\n",
       " 0.9044514154453432\n",
       " 0.8758209533493445\n",
       " 0.8437201632066401\n",
       " 0.8082762402754935\n",
       " 0.7696296265484861\n",
       " 0.7279334542691597\n",
       " ⋮                 \n",
       " 0.7696296265484844\n",
       " 0.8082762402754918\n",
       " 0.8437201632066404\n",
       " 0.8758209533493446\n",
       " 0.9044514154453432\n",
       " 0.9294981049655667\n",
       " 0.9508617776195164\n",
       " 0.9684577825980191\n",
       " 0.9822163979911877\n",
       " 0.9920831070525339\n",
       " 0.9980188142145753\n",
       " 1.0               "
      ]
     },
     "execution_count": 22,
     "metadata": {},
     "output_type": "execute_result"
    }
   ],
   "source": [
    "b = cos.(pi*x)"
   ]
  },
  {
   "cell_type": "code",
   "execution_count": 23,
   "metadata": {},
   "outputs": [
    {
     "data": {
      "text/plain": [
       "500-element Array{Float64,1}:\n",
       " 2.0                  \n",
       " 1.7676484407630615   \n",
       " 1.1767426311748586   \n",
       " 0.4968256526204732   \n",
       " 0.03665606229618601  \n",
       " 0.001968102963957108 \n",
       " 0.40070645634864255  \n",
       " 1.0393976520068988   \n",
       " 1.612329845264256    \n",
       " 1.8424520535133104   \n",
       " 1.6090746518781542   \n",
       " 1.0035341011665695   \n",
       " 0.28717466956316906  \n",
       " ⋮                    \n",
       " 1.0035341011665178   \n",
       " 1.6090746518781311   \n",
       " 1.8424520535133144   \n",
       " 1.6123298452642976   \n",
       " 1.0393976520069437   \n",
       " 0.4007064563486674   \n",
       " 0.0019681029639794234\n",
       " 0.0366560622961658   \n",
       " 0.49682565262043876  \n",
       " 1.1767426311748352   \n",
       " 1.7676484407630202   \n",
       " 2.0                  "
      ]
     },
     "execution_count": 23,
     "metadata": {},
     "output_type": "execute_result"
    }
   ],
   "source": [
    "c = a .+b"
   ]
  },
  {
   "cell_type": "code",
   "execution_count": 24,
   "metadata": {},
   "outputs": [
    {
     "data": {
      "text/plain": [
       "500-element Array{Float64,1}:\n",
       " 12.566370614359172   \n",
       " 11.106462711261374   \n",
       "  7.393692010529718   \n",
       "  3.1216476407748663  \n",
       "  0.23031683203845554 \n",
       "  0.012365955626151896\n",
       "  2.5177129190217893  \n",
       "  6.5307280554067075  \n",
       " 10.13056719409151    \n",
       " 11.576467671817689   \n",
       " 10.110114210835926   \n",
       "  6.305390719703462   \n",
       "  1.8043716643934566  \n",
       "  ⋮                   \n",
       "  6.305390719703137   \n",
       " 10.110114210835782   \n",
       " 11.576467671817714   \n",
       " 10.13056719409177    \n",
       "  6.530728055406989   \n",
       "  2.517712919021945   \n",
       "  0.012365955626292108\n",
       "  0.2303168320383286  \n",
       "  3.12164764077465    \n",
       "  7.393692010529572   \n",
       " 11.106462711261115   \n",
       " 12.566370614359172   "
      ]
     },
     "execution_count": 24,
     "metadata": {},
     "output_type": "execute_result"
    }
   ],
   "source": [
    "y=2*pi*c"
   ]
  },
  {
   "cell_type": "code",
   "execution_count": 25,
   "metadata": {},
   "outputs": [
    {
     "data": {
      "image/svg+xml": [
       "<?xml version=\"1.0\" encoding=\"utf-8\"?>\n",
       "<svg xmlns=\"http://www.w3.org/2000/svg\" xmlns:xlink=\"http://www.w3.org/1999/xlink\" width=\"600\" height=\"400\" viewBox=\"0 0 2400 1600\">\n",
       "<defs>\n",
       "  <clipPath id=\"clip1300\">\n",
       "    <rect x=\"0\" y=\"0\" width=\"2400\" height=\"1600\"/>\n",
       "  </clipPath>\n",
       "</defs>\n",
       "<polygon clip-path=\"url(#clip1300)\" points=\"\n",
       "0,1600 2400,1600 2400,0 0,0 \n",
       "  \" fill=\"#ffffff\" fill-rule=\"evenodd\" fill-opacity=\"1\"/>\n",
       "<defs>\n",
       "  <clipPath id=\"clip1301\">\n",
       "    <rect x=\"480\" y=\"0\" width=\"1681\" height=\"1600\"/>\n",
       "  </clipPath>\n",
       "</defs>\n",
       "<polygon clip-path=\"url(#clip1300)\" points=\"\n",
       "168.627,1487.47 2352.76,1487.47 2352.76,47.2441 168.627,47.2441 \n",
       "  \" fill=\"#ffffff\" fill-rule=\"evenodd\" fill-opacity=\"1\"/>\n",
       "<defs>\n",
       "  <clipPath id=\"clip1302\">\n",
       "    <rect x=\"168\" y=\"47\" width=\"2185\" height=\"1441\"/>\n",
       "  </clipPath>\n",
       "</defs>\n",
       "<polyline clip-path=\"url(#clip1302)\" style=\"stroke:#000000; stroke-width:2; stroke-opacity:0.1; fill:none\" points=\"\n",
       "  230.442,1487.47 230.442,47.2441 \n",
       "  \"/>\n",
       "<polyline clip-path=\"url(#clip1302)\" style=\"stroke:#000000; stroke-width:2; stroke-opacity:0.1; fill:none\" points=\"\n",
       "  745.567,1487.47 745.567,47.2441 \n",
       "  \"/>\n",
       "<polyline clip-path=\"url(#clip1302)\" style=\"stroke:#000000; stroke-width:2; stroke-opacity:0.1; fill:none\" points=\"\n",
       "  1260.69,1487.47 1260.69,47.2441 \n",
       "  \"/>\n",
       "<polyline clip-path=\"url(#clip1302)\" style=\"stroke:#000000; stroke-width:2; stroke-opacity:0.1; fill:none\" points=\"\n",
       "  1775.82,1487.47 1775.82,47.2441 \n",
       "  \"/>\n",
       "<polyline clip-path=\"url(#clip1302)\" style=\"stroke:#000000; stroke-width:2; stroke-opacity:0.1; fill:none\" points=\"\n",
       "  2290.94,1487.47 2290.94,47.2441 \n",
       "  \"/>\n",
       "<polyline clip-path=\"url(#clip1302)\" style=\"stroke:#000000; stroke-width:2; stroke-opacity:0.1; fill:none\" points=\"\n",
       "  168.627,1308.71 2352.76,1308.71 \n",
       "  \"/>\n",
       "<polyline clip-path=\"url(#clip1302)\" style=\"stroke:#000000; stroke-width:2; stroke-opacity:0.1; fill:none\" points=\"\n",
       "  168.627,1038.24 2352.76,1038.24 \n",
       "  \"/>\n",
       "<polyline clip-path=\"url(#clip1302)\" style=\"stroke:#000000; stroke-width:2; stroke-opacity:0.1; fill:none\" points=\"\n",
       "  168.627,767.77 2352.76,767.77 \n",
       "  \"/>\n",
       "<polyline clip-path=\"url(#clip1302)\" style=\"stroke:#000000; stroke-width:2; stroke-opacity:0.1; fill:none\" points=\"\n",
       "  168.627,497.3 2352.76,497.3 \n",
       "  \"/>\n",
       "<polyline clip-path=\"url(#clip1302)\" style=\"stroke:#000000; stroke-width:2; stroke-opacity:0.1; fill:none\" points=\"\n",
       "  168.627,226.83 2352.76,226.83 \n",
       "  \"/>\n",
       "<polyline clip-path=\"url(#clip1300)\" style=\"stroke:#000000; stroke-width:4; stroke-opacity:1; fill:none\" points=\"\n",
       "  168.627,1487.47 2352.76,1487.47 \n",
       "  \"/>\n",
       "<polyline clip-path=\"url(#clip1300)\" style=\"stroke:#000000; stroke-width:4; stroke-opacity:1; fill:none\" points=\"\n",
       "  168.627,1487.47 168.627,47.2441 \n",
       "  \"/>\n",
       "<polyline clip-path=\"url(#clip1300)\" style=\"stroke:#000000; stroke-width:4; stroke-opacity:1; fill:none\" points=\"\n",
       "  230.442,1487.47 230.442,1465.87 \n",
       "  \"/>\n",
       "<polyline clip-path=\"url(#clip1300)\" style=\"stroke:#000000; stroke-width:4; stroke-opacity:1; fill:none\" points=\"\n",
       "  745.567,1487.47 745.567,1465.87 \n",
       "  \"/>\n",
       "<polyline clip-path=\"url(#clip1300)\" style=\"stroke:#000000; stroke-width:4; stroke-opacity:1; fill:none\" points=\"\n",
       "  1260.69,1487.47 1260.69,1465.87 \n",
       "  \"/>\n",
       "<polyline clip-path=\"url(#clip1300)\" style=\"stroke:#000000; stroke-width:4; stroke-opacity:1; fill:none\" points=\"\n",
       "  1775.82,1487.47 1775.82,1465.87 \n",
       "  \"/>\n",
       "<polyline clip-path=\"url(#clip1300)\" style=\"stroke:#000000; stroke-width:4; stroke-opacity:1; fill:none\" points=\"\n",
       "  2290.94,1487.47 2290.94,1465.87 \n",
       "  \"/>\n",
       "<polyline clip-path=\"url(#clip1300)\" style=\"stroke:#000000; stroke-width:4; stroke-opacity:1; fill:none\" points=\"\n",
       "  168.627,1308.71 201.389,1308.71 \n",
       "  \"/>\n",
       "<polyline clip-path=\"url(#clip1300)\" style=\"stroke:#000000; stroke-width:4; stroke-opacity:1; fill:none\" points=\"\n",
       "  168.627,1038.24 201.389,1038.24 \n",
       "  \"/>\n",
       "<polyline clip-path=\"url(#clip1300)\" style=\"stroke:#000000; stroke-width:4; stroke-opacity:1; fill:none\" points=\"\n",
       "  168.627,767.77 201.389,767.77 \n",
       "  \"/>\n",
       "<polyline clip-path=\"url(#clip1300)\" style=\"stroke:#000000; stroke-width:4; stroke-opacity:1; fill:none\" points=\"\n",
       "  168.627,497.3 201.389,497.3 \n",
       "  \"/>\n",
       "<polyline clip-path=\"url(#clip1300)\" style=\"stroke:#000000; stroke-width:4; stroke-opacity:1; fill:none\" points=\"\n",
       "  168.627,226.83 201.389,226.83 \n",
       "  \"/>\n",
       "<g clip-path=\"url(#clip1300)\">\n",
       "<text style=\"fill:#000000; fill-opacity:1; font-family:Arial,Helvetica Neue,Helvetica,sans-serif; font-size:48px; text-anchor:middle;\" transform=\"rotate(0, 230.442, 1541.47)\" x=\"230.442\" y=\"1541.47\">0.0</text>\n",
       "</g>\n",
       "<g clip-path=\"url(#clip1300)\">\n",
       "<text style=\"fill:#000000; fill-opacity:1; font-family:Arial,Helvetica Neue,Helvetica,sans-serif; font-size:48px; text-anchor:middle;\" transform=\"rotate(0, 745.567, 1541.47)\" x=\"745.567\" y=\"1541.47\">2.5</text>\n",
       "</g>\n",
       "<g clip-path=\"url(#clip1300)\">\n",
       "<text style=\"fill:#000000; fill-opacity:1; font-family:Arial,Helvetica Neue,Helvetica,sans-serif; font-size:48px; text-anchor:middle;\" transform=\"rotate(0, 1260.69, 1541.47)\" x=\"1260.69\" y=\"1541.47\">5.0</text>\n",
       "</g>\n",
       "<g clip-path=\"url(#clip1300)\">\n",
       "<text style=\"fill:#000000; fill-opacity:1; font-family:Arial,Helvetica Neue,Helvetica,sans-serif; font-size:48px; text-anchor:middle;\" transform=\"rotate(0, 1775.82, 1541.47)\" x=\"1775.82\" y=\"1541.47\">7.5</text>\n",
       "</g>\n",
       "<g clip-path=\"url(#clip1300)\">\n",
       "<text style=\"fill:#000000; fill-opacity:1; font-family:Arial,Helvetica Neue,Helvetica,sans-serif; font-size:48px; text-anchor:middle;\" transform=\"rotate(0, 2290.94, 1541.47)\" x=\"2290.94\" y=\"1541.47\">10.0</text>\n",
       "</g>\n",
       "<g clip-path=\"url(#clip1300)\">\n",
       "<text style=\"fill:#000000; fill-opacity:1; font-family:Arial,Helvetica Neue,Helvetica,sans-serif; font-size:48px; text-anchor:end;\" transform=\"rotate(0, 144.627, 1326.21)\" x=\"144.627\" y=\"1326.21\">-10</text>\n",
       "</g>\n",
       "<g clip-path=\"url(#clip1300)\">\n",
       "<text style=\"fill:#000000; fill-opacity:1; font-family:Arial,Helvetica Neue,Helvetica,sans-serif; font-size:48px; text-anchor:end;\" transform=\"rotate(0, 144.627, 1055.74)\" x=\"144.627\" y=\"1055.74\">-5</text>\n",
       "</g>\n",
       "<g clip-path=\"url(#clip1300)\">\n",
       "<text style=\"fill:#000000; fill-opacity:1; font-family:Arial,Helvetica Neue,Helvetica,sans-serif; font-size:48px; text-anchor:end;\" transform=\"rotate(0, 144.627, 785.27)\" x=\"144.627\" y=\"785.27\">0</text>\n",
       "</g>\n",
       "<g clip-path=\"url(#clip1300)\">\n",
       "<text style=\"fill:#000000; fill-opacity:1; font-family:Arial,Helvetica Neue,Helvetica,sans-serif; font-size:48px; text-anchor:end;\" transform=\"rotate(0, 144.627, 514.8)\" x=\"144.627\" y=\"514.8\">5</text>\n",
       "</g>\n",
       "<g clip-path=\"url(#clip1300)\">\n",
       "<text style=\"fill:#000000; fill-opacity:1; font-family:Arial,Helvetica Neue,Helvetica,sans-serif; font-size:48px; text-anchor:end;\" transform=\"rotate(0, 144.627, 244.33)\" x=\"144.627\" y=\"244.33\">10</text>\n",
       "</g>\n",
       "<polyline clip-path=\"url(#clip1302)\" style=\"stroke:#009af9; stroke-width:4; stroke-opacity:1; fill:none\" points=\"\n",
       "  230.442,88.0053 234.571,166.978 238.7,367.816 242.83,598.908 246.959,755.311 251.088,767.101 255.217,631.577 259.347,414.497 263.476,219.768 267.605,141.553 \n",
       "  271.734,220.874 275.864,426.687 279.993,670.165 284.122,845.601 288.251,879.086 292.381,762.534 296.51,557.378 300.639,366.234 304.768,285.593 308.898,361.327 \n",
       "  313.027,567.519 317.156,818.372 321.286,1007.7 325.415,1057.81 329.544,955.28 333.673,757.073 337.803,564.284 341.932,475.505 346.061,541.366 350.19,741.169 \n",
       "  354.32,992.386 358.449,1188.65 362.578,1248.71 366.707,1153.85 370.837,956.464 374.966,755.89 379.095,652.596 383.224,701.869 387.354,888.309 391.483,1132.89 \n",
       "  395.612,1329.35 399.741,1393.13 403.871,1300.29 408,1098.54 412.129,885.215 416.258,762.446 420.388,790.051 424.517,957.986 428.646,1190.95 432.775,1383.08 \n",
       "  436.905,1446.71 441.034,1352.78 445.163,1144.18 449.292,916.057 453.422,771.912 457.551,775.966 461.68,923.561 465.809,1143.32 469.939,1330.04 474.068,1393.2 \n",
       "  478.197,1298.66 482.327,1084.42 486.456,843.151 490.585,679.486 494.714,661.873 498.844,791.044 502.973,999.715 507.102,1183.62 511.231,1249.56 515.361,1158.42 \n",
       "  519.49,943.191 523.619,693.808 527.748,515.765 531.878,481.539 536.007,597.233 540.136,799.804 544.265,986.15 548.395,1060.65 552.524,979.256 556.653,769.836 \n",
       "  560.782,519.36 564.912,333.877 569.041,289.686 573.17,398.217 577.299,600.807 581.429,795.754 585.558,885.214 589.687,820.313 593.816,623.693 597.946,379.112 \n",
       "  602.075,192.877 606.204,144.892 610.333,251.865 614.463,459.632 618.592,668.131 622.721,777.523 626.851,734.206 630.98,555.524 635.109,321.788 639.238,139.279 \n",
       "  643.368,91.2873 647.497,199.74 651.626,415.1 655.755,639.185 659.885,770.403 664.014,750.554 668.143,591.631 672.272,370.29 676.402,192.512 680.531,144.761 \n",
       "  684.66,254.128 688.789,475.825 692.919,713.805 697.048,864.986 701.177,866.72 705.306,725.63 709.436,514.53 713.565,338.843 717.694,288 721.823,394.199 \n",
       "  725.953,617.534 730.082,864.351 734.211,1030.35 738.34,1048.63 742.47,920.432 746.599,714.568 750.728,535.66 754.857,475.9 758.987,572.535 763.116,790.668 \n",
       "  767.245,1039.3 771.374,1213.21 775.504,1241.41 779.633,1119.82 783.762,913.082 787.892,724.781 792.021,649.663 796.15,729.956 800.279,935.884 804.409,1179.36 \n",
       "  808.538,1354.53 812.667,1386.55 816.796,1266.01 820.926,1053.27 825.055,850.636 829.184,755.179 833.313,814.027 837.443,1002.62 841.572,1236.02 845.701,1408.04 \n",
       "  849.83,1440.17 853.96,1317.71 858.089,1096.61 862.218,877.621 866.347,759.935 870.477,795.455 874.606,964.908 878.735,1186.73 882.864,1354.66 886.994,1386.72 \n",
       "  891.123,1262.99 895.252,1034.84 899.381,801.222 903.511,663.176 907.64,677.253 911.769,829.504 915.898,1041.94 920.028,1208.48 924.157,1243.89 928.286,1123.04 \n",
       "  932.415,892.577 936.545,649.413 940.674,496.143 944.803,493.805 948.933,633.793 953.062,841.86 957.191,1012.37 961.32,1057 965.45,945.49 969.579,719.592 \n",
       "  973.708,473.902 977.837,312.301 981.967,300.126 986.096,434.11 990.225,643.917 994.354,824.586 998.484,884.923 1002.61,789.548 1006.74,575.227 1010.87,333.962 \n",
       "  1015,170.626 1019.13,154.671 1023.26,288.151 1027.39,504.795 1031.52,700.563 1035.65,781.594 1039.78,707.47 1043.91,509.849 1048.03,277.887 1052.16,117.17 \n",
       "  1056.29,101.071 1060.42,236.946 1064.55,462.745 1068.68,675.599 1072.81,779.213 1076.94,728.223 1081.07,549.088 1085.2,327.892 1089.33,170.66 1093.46,154.499 \n",
       "  1097.59,292.049 1101.72,525.639 1105.84,753.837 1109.97,878.158 1114.1,848.416 1118.23,685.815 1122.36,473.153 1126.49,316.642 1130.62,296.935 1134.75,431.939 \n",
       "  1138.88,668.525 1143.01,906.969 1147.14,1046.87 1151.27,1033.36 1155.4,882.355 1159.52,673.183 1163.65,511.989 1167.78,482.797 1171.91,608.755 1176.04,841.435 \n",
       "  1180.17,1083.1 1184.3,1231.72 1188.43,1227.89 1192.56,1082.25 1196.69,870.468 1200.82,698.379 1204.95,653.192 1209.08,763.267 1213.2,985.023 1217.33,1222.99 \n",
       "  1221.46,1373.76 1225.59,1373.63 1229.72,1227.9 1233.85,1008.43 1237.98,820.514 1242.11,754.329 1246.24,843.398 1250.37,1049.12 1254.5,1278.54 1258.63,1427.19 \n",
       "  1262.76,1427.19 1266.89,1278.54 1271.01,1049.12 1275.14,843.398 1279.27,754.329 1283.4,820.514 1287.53,1008.43 1291.66,1227.9 1295.79,1373.63 1299.92,1373.76 \n",
       "  1304.05,1222.99 1308.18,985.023 1312.31,763.267 1316.44,653.192 1320.57,698.379 1324.69,870.468 1328.82,1082.25 1332.95,1227.89 1337.08,1231.72 1341.21,1083.1 \n",
       "  1345.34,841.435 1349.47,608.755 1353.6,482.797 1357.73,511.989 1361.86,673.183 1365.99,882.355 1370.12,1033.36 1374.25,1046.87 1378.38,906.969 1382.5,668.525 \n",
       "  1386.63,431.939 1390.76,296.935 1394.89,316.642 1399.02,473.153 1403.15,685.815 1407.28,848.416 1411.41,878.158 1415.54,753.837 1419.67,525.639 1423.8,292.049 \n",
       "  1427.93,154.499 1432.06,170.66 1436.18,327.892 1440.31,549.088 1444.44,728.223 1448.57,779.213 1452.7,675.599 1456.83,462.745 1460.96,236.946 1465.09,101.071 \n",
       "  1469.22,117.17 1473.35,277.887 1477.48,509.849 1481.61,707.47 1485.74,781.594 1489.87,700.563 1493.99,504.795 1498.12,288.151 1502.25,154.671 1506.38,170.626 \n",
       "  1510.51,333.962 1514.64,575.227 1518.77,789.548 1522.9,884.923 1527.03,824.586 1531.16,643.917 1535.29,434.11 1539.42,300.126 1543.55,312.301 1547.67,473.902 \n",
       "  1551.8,719.592 1555.93,945.49 1560.06,1057 1564.19,1012.37 1568.32,841.86 1572.45,633.793 1576.58,493.805 1580.71,496.143 1584.84,649.413 1588.97,892.577 \n",
       "  1593.1,1123.04 1597.23,1243.89 1601.36,1208.48 1605.48,1041.94 1609.61,829.504 1613.74,677.253 1617.87,663.176 1622,801.222 1626.13,1034.84 1630.26,1262.99 \n",
       "  1634.39,1386.72 1638.52,1354.66 1642.65,1186.73 1646.78,964.908 1650.91,795.455 1655.04,759.935 1659.16,877.621 1663.29,1096.61 1667.42,1317.71 1671.55,1440.17 \n",
       "  1675.68,1408.04 1679.81,1236.02 1683.94,1002.62 1688.07,814.027 1692.2,755.179 1696.33,850.636 1700.46,1053.27 1704.59,1266.01 1708.72,1386.55 1712.85,1354.53 \n",
       "  1716.97,1179.36 1721.1,935.884 1725.23,729.956 1729.36,649.663 1733.49,724.781 1737.62,913.082 1741.75,1119.82 1745.88,1241.41 1750.01,1213.21 1754.14,1039.3 \n",
       "  1758.27,790.668 1762.4,572.535 1766.53,475.9 1770.65,535.66 1774.78,714.568 1778.91,920.432 1783.04,1048.63 1787.17,1030.35 1791.3,864.351 1795.43,617.534 \n",
       "  1799.56,394.199 1803.69,288 1807.82,338.843 1811.95,514.53 1816.08,725.63 1820.21,866.72 1824.33,864.986 1828.46,713.805 1832.59,475.825 1836.72,254.128 \n",
       "  1840.85,144.761 1844.98,192.512 1849.11,370.29 1853.24,591.631 1857.37,750.554 1861.5,770.403 1865.63,639.185 1869.76,415.1 1873.89,199.74 1878.02,91.2873 \n",
       "  1882.14,139.279 1886.27,321.788 1890.4,555.524 1894.53,734.206 1898.66,777.523 1902.79,668.131 1906.92,459.632 1911.05,251.865 1915.18,144.892 1919.31,192.877 \n",
       "  1923.44,379.112 1927.57,623.693 1931.7,820.313 1935.82,885.214 1939.95,795.754 1944.08,600.807 1948.21,398.217 1952.34,289.686 1956.47,333.877 1960.6,519.36 \n",
       "  1964.73,769.836 1968.86,979.256 1972.99,1060.65 1977.12,986.15 1981.25,799.804 1985.38,597.233 1989.51,481.539 1993.63,515.765 1997.76,693.808 2001.89,943.191 \n",
       "  2006.02,1158.42 2010.15,1249.56 2014.28,1183.62 2018.41,999.715 2022.54,791.044 2026.67,661.873 2030.8,679.486 2034.93,843.151 2039.06,1084.42 2043.19,1298.66 \n",
       "  2047.31,1393.2 2051.44,1330.04 2055.57,1143.32 2059.7,923.561 2063.83,775.966 2067.96,771.912 2072.09,916.057 2076.22,1144.18 2080.35,1352.78 2084.48,1446.71 \n",
       "  2088.61,1383.08 2092.74,1190.95 2096.87,957.986 2101,790.051 2105.12,762.446 2109.25,885.215 2113.38,1098.54 2117.51,1300.29 2121.64,1393.13 2125.77,1329.35 \n",
       "  2129.9,1132.89 2134.03,888.309 2138.16,701.869 2142.29,652.596 2146.42,755.89 2150.55,956.464 2154.68,1153.85 2158.8,1248.71 2162.93,1188.65 2167.06,992.386 \n",
       "  2171.19,741.169 2175.32,541.366 2179.45,475.505 2183.58,564.284 2187.71,757.073 2191.84,955.28 2195.97,1057.81 2200.1,1007.7 2204.23,818.372 2208.36,567.519 \n",
       "  2212.49,361.327 2216.61,285.593 2220.74,366.234 2224.87,557.378 2229,762.534 2233.13,879.086 2237.26,845.601 2241.39,670.165 2245.52,426.687 2249.65,220.874 \n",
       "  2253.78,141.553 2257.91,219.768 2262.04,414.497 2266.17,631.577 2270.29,767.101 2274.42,755.311 2278.55,598.908 2282.68,367.816 2286.81,166.978 2290.94,88.0053 \n",
       "  \n",
       "  \"/>\n",
       "<polygon clip-path=\"url(#clip1300)\" points=\"\n",
       "1989.93,251.724 2280.76,251.724 2280.76,130.764 1989.93,130.764 \n",
       "  \" fill=\"#ffffff\" fill-rule=\"evenodd\" fill-opacity=\"1\"/>\n",
       "<polyline clip-path=\"url(#clip1300)\" style=\"stroke:#000000; stroke-width:4; stroke-opacity:1; fill:none\" points=\"\n",
       "  1989.93,251.724 2280.76,251.724 2280.76,130.764 1989.93,130.764 1989.93,251.724 \n",
       "  \"/>\n",
       "<polyline clip-path=\"url(#clip1300)\" style=\"stroke:#009af9; stroke-width:4; stroke-opacity:1; fill:none\" points=\"\n",
       "  2013.93,191.244 2157.93,191.244 \n",
       "  \"/>\n",
       "<g clip-path=\"url(#clip1300)\">\n",
       "<text style=\"fill:#000000; fill-opacity:1; font-family:Arial,Helvetica Neue,Helvetica,sans-serif; font-size:48px; text-anchor:start;\" transform=\"rotate(0, 2181.93, 208.744)\" x=\"2181.93\" y=\"208.744\">y1</text>\n",
       "</g>\n",
       "</svg>\n"
      ]
     },
     "execution_count": 25,
     "metadata": {},
     "output_type": "execute_result"
    }
   ],
   "source": [
    "plot(x,y)"
   ]
  },
  {
   "cell_type": "code",
   "execution_count": null,
   "metadata": {},
   "outputs": [],
   "source": []
  }
 ],
 "metadata": {
  "kernelspec": {
   "display_name": "Julia 1.1.1",
   "language": "julia",
   "name": "julia-1.1"
  },
  "language_info": {
   "file_extension": ".jl",
   "mimetype": "application/julia",
   "name": "julia",
   "version": "1.1.1"
  }
 },
 "nbformat": 4,
 "nbformat_minor": 2
}
