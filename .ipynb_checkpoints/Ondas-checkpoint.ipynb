{
 "cells": [
  {
   "cell_type": "code",
   "execution_count": 1,
   "metadata": {},
   "outputs": [
    {
     "data": {
      "text/plain": [
       "π = 3.1415926535897..."
      ]
     },
     "execution_count": 1,
     "metadata": {},
     "output_type": "execute_result"
    }
   ],
   "source": [
    "pi"
   ]
  },
  {
   "cell_type": "code",
   "execution_count": 2,
   "metadata": {},
   "outputs": [
    {
     "data": {
      "text/plain": [
       "6.283185307179586"
      ]
     },
     "execution_count": 2,
     "metadata": {},
     "output_type": "execute_result"
    }
   ],
   "source": [
    "s = 2*pi"
   ]
  },
  {
   "cell_type": "code",
   "execution_count": 3,
   "metadata": {},
   "outputs": [
    {
     "ename": "UndefVarError",
     "evalue": "UndefVarError: arctan not defined",
     "output_type": "error",
     "traceback": [
      "UndefVarError: arctan not defined",
      "",
      "Stacktrace:",
      " [1] top-level scope at In[3]:1"
     ]
    }
   ],
   "source": [
    "arctan(0)"
   ]
  },
  {
   "cell_type": "code",
   "execution_count": 10,
   "metadata": {},
   "outputs": [],
   "source": [
    "using Plots"
   ]
  },
  {
   "cell_type": "code",
   "execution_count": 4,
   "metadata": {},
   "outputs": [
    {
     "data": {
      "text/plain": [
       "0.0"
      ]
     },
     "execution_count": 4,
     "metadata": {},
     "output_type": "execute_result"
    }
   ],
   "source": [
    "atan(0)"
   ]
  },
  {
   "cell_type": "code",
   "execution_count": 5,
   "metadata": {},
   "outputs": [
    {
     "data": {
      "image/svg+xml": [
       "<?xml version=\"1.0\" encoding=\"utf-8\"?>\n",
       "<svg xmlns=\"http://www.w3.org/2000/svg\" xmlns:xlink=\"http://www.w3.org/1999/xlink\" width=\"600\" height=\"400\" viewBox=\"0 0 2400 1600\">\n",
       "<defs>\n",
       "  <clipPath id=\"clip1100\">\n",
       "    <rect x=\"0\" y=\"0\" width=\"2400\" height=\"1600\"/>\n",
       "  </clipPath>\n",
       "</defs>\n",
       "<polygon clip-path=\"url(#clip1100)\" points=\"\n",
       "0,1600 2400,1600 2400,0 0,0 \n",
       "  \" fill=\"#ffffff\" fill-rule=\"evenodd\" fill-opacity=\"1\"/>\n",
       "<defs>\n",
       "  <clipPath id=\"clip1101\">\n",
       "    <rect x=\"480\" y=\"0\" width=\"1681\" height=\"1600\"/>\n",
       "  </clipPath>\n",
       "</defs>\n",
       "<polygon clip-path=\"url(#clip1100)\" points=\"\n",
       "182.008,1487.47 2352.76,1487.47 2352.76,47.2441 182.008,47.2441 \n",
       "  \" fill=\"#ffffff\" fill-rule=\"evenodd\" fill-opacity=\"1\"/>\n",
       "<defs>\n",
       "  <clipPath id=\"clip1102\">\n",
       "    <rect x=\"182\" y=\"47\" width=\"2172\" height=\"1441\"/>\n",
       "  </clipPath>\n",
       "</defs>\n",
       "<polyline clip-path=\"url(#clip1102)\" style=\"stroke:#000000; stroke-width:2; stroke-opacity:0.1; fill:none\" points=\"\n",
       "  238.416,1487.47 238.416,47.2441 \n",
       "  \"/>\n",
       "<polyline clip-path=\"url(#clip1102)\" style=\"stroke:#000000; stroke-width:2; stroke-opacity:0.1; fill:none\" points=\"\n",
       "  566.187,1487.47 566.187,47.2441 \n",
       "  \"/>\n",
       "<polyline clip-path=\"url(#clip1102)\" style=\"stroke:#000000; stroke-width:2; stroke-opacity:0.1; fill:none\" points=\"\n",
       "  893.959,1487.47 893.959,47.2441 \n",
       "  \"/>\n",
       "<polyline clip-path=\"url(#clip1102)\" style=\"stroke:#000000; stroke-width:2; stroke-opacity:0.1; fill:none\" points=\"\n",
       "  1221.73,1487.47 1221.73,47.2441 \n",
       "  \"/>\n",
       "<polyline clip-path=\"url(#clip1102)\" style=\"stroke:#000000; stroke-width:2; stroke-opacity:0.1; fill:none\" points=\"\n",
       "  1549.5,1487.47 1549.5,47.2441 \n",
       "  \"/>\n",
       "<polyline clip-path=\"url(#clip1102)\" style=\"stroke:#000000; stroke-width:2; stroke-opacity:0.1; fill:none\" points=\"\n",
       "  1877.27,1487.47 1877.27,47.2441 \n",
       "  \"/>\n",
       "<polyline clip-path=\"url(#clip1102)\" style=\"stroke:#000000; stroke-width:2; stroke-opacity:0.1; fill:none\" points=\"\n",
       "  2205.04,1487.47 2205.04,47.2441 \n",
       "  \"/>\n",
       "<polyline clip-path=\"url(#clip1102)\" style=\"stroke:#000000; stroke-width:2; stroke-opacity:0.1; fill:none\" points=\"\n",
       "  182.008,1446.79 2352.76,1446.79 \n",
       "  \"/>\n",
       "<polyline clip-path=\"url(#clip1102)\" style=\"stroke:#000000; stroke-width:2; stroke-opacity:0.1; fill:none\" points=\"\n",
       "  182.008,1107.03 2352.76,1107.03 \n",
       "  \"/>\n",
       "<polyline clip-path=\"url(#clip1102)\" style=\"stroke:#000000; stroke-width:2; stroke-opacity:0.1; fill:none\" points=\"\n",
       "  182.008,767.269 2352.76,767.269 \n",
       "  \"/>\n",
       "<polyline clip-path=\"url(#clip1102)\" style=\"stroke:#000000; stroke-width:2; stroke-opacity:0.1; fill:none\" points=\"\n",
       "  182.008,427.507 2352.76,427.507 \n",
       "  \"/>\n",
       "<polyline clip-path=\"url(#clip1102)\" style=\"stroke:#000000; stroke-width:2; stroke-opacity:0.1; fill:none\" points=\"\n",
       "  182.008,87.7462 2352.76,87.7462 \n",
       "  \"/>\n",
       "<polyline clip-path=\"url(#clip1100)\" style=\"stroke:#000000; stroke-width:4; stroke-opacity:1; fill:none\" points=\"\n",
       "  182.008,1487.47 2352.76,1487.47 \n",
       "  \"/>\n",
       "<polyline clip-path=\"url(#clip1100)\" style=\"stroke:#000000; stroke-width:4; stroke-opacity:1; fill:none\" points=\"\n",
       "  182.008,1487.47 182.008,47.2441 \n",
       "  \"/>\n",
       "<polyline clip-path=\"url(#clip1100)\" style=\"stroke:#000000; stroke-width:4; stroke-opacity:1; fill:none\" points=\"\n",
       "  238.416,1487.47 238.416,1465.87 \n",
       "  \"/>\n",
       "<polyline clip-path=\"url(#clip1100)\" style=\"stroke:#000000; stroke-width:4; stroke-opacity:1; fill:none\" points=\"\n",
       "  566.187,1487.47 566.187,1465.87 \n",
       "  \"/>\n",
       "<polyline clip-path=\"url(#clip1100)\" style=\"stroke:#000000; stroke-width:4; stroke-opacity:1; fill:none\" points=\"\n",
       "  893.959,1487.47 893.959,1465.87 \n",
       "  \"/>\n",
       "<polyline clip-path=\"url(#clip1100)\" style=\"stroke:#000000; stroke-width:4; stroke-opacity:1; fill:none\" points=\"\n",
       "  1221.73,1487.47 1221.73,1465.87 \n",
       "  \"/>\n",
       "<polyline clip-path=\"url(#clip1100)\" style=\"stroke:#000000; stroke-width:4; stroke-opacity:1; fill:none\" points=\"\n",
       "  1549.5,1487.47 1549.5,1465.87 \n",
       "  \"/>\n",
       "<polyline clip-path=\"url(#clip1100)\" style=\"stroke:#000000; stroke-width:4; stroke-opacity:1; fill:none\" points=\"\n",
       "  1877.27,1487.47 1877.27,1465.87 \n",
       "  \"/>\n",
       "<polyline clip-path=\"url(#clip1100)\" style=\"stroke:#000000; stroke-width:4; stroke-opacity:1; fill:none\" points=\"\n",
       "  2205.04,1487.47 2205.04,1465.87 \n",
       "  \"/>\n",
       "<polyline clip-path=\"url(#clip1100)\" style=\"stroke:#000000; stroke-width:4; stroke-opacity:1; fill:none\" points=\"\n",
       "  182.008,1446.79 214.569,1446.79 \n",
       "  \"/>\n",
       "<polyline clip-path=\"url(#clip1100)\" style=\"stroke:#000000; stroke-width:4; stroke-opacity:1; fill:none\" points=\"\n",
       "  182.008,1107.03 214.569,1107.03 \n",
       "  \"/>\n",
       "<polyline clip-path=\"url(#clip1100)\" style=\"stroke:#000000; stroke-width:4; stroke-opacity:1; fill:none\" points=\"\n",
       "  182.008,767.269 214.569,767.269 \n",
       "  \"/>\n",
       "<polyline clip-path=\"url(#clip1100)\" style=\"stroke:#000000; stroke-width:4; stroke-opacity:1; fill:none\" points=\"\n",
       "  182.008,427.507 214.569,427.507 \n",
       "  \"/>\n",
       "<polyline clip-path=\"url(#clip1100)\" style=\"stroke:#000000; stroke-width:4; stroke-opacity:1; fill:none\" points=\"\n",
       "  182.008,87.7462 214.569,87.7462 \n",
       "  \"/>\n",
       "<g clip-path=\"url(#clip1100)\">\n",
       "<text style=\"fill:#000000; fill-opacity:1; font-family:Arial,Helvetica Neue,Helvetica,sans-serif; font-size:48px; text-anchor:middle;\" transform=\"rotate(0, 238.416, 1541.47)\" x=\"238.416\" y=\"1541.47\">0</text>\n",
       "</g>\n",
       "<g clip-path=\"url(#clip1100)\">\n",
       "<text style=\"fill:#000000; fill-opacity:1; font-family:Arial,Helvetica Neue,Helvetica,sans-serif; font-size:48px; text-anchor:middle;\" transform=\"rotate(0, 566.187, 1541.47)\" x=\"566.187\" y=\"1541.47\">2</text>\n",
       "</g>\n",
       "<g clip-path=\"url(#clip1100)\">\n",
       "<text style=\"fill:#000000; fill-opacity:1; font-family:Arial,Helvetica Neue,Helvetica,sans-serif; font-size:48px; text-anchor:middle;\" transform=\"rotate(0, 893.959, 1541.47)\" x=\"893.959\" y=\"1541.47\">4</text>\n",
       "</g>\n",
       "<g clip-path=\"url(#clip1100)\">\n",
       "<text style=\"fill:#000000; fill-opacity:1; font-family:Arial,Helvetica Neue,Helvetica,sans-serif; font-size:48px; text-anchor:middle;\" transform=\"rotate(0, 1221.73, 1541.47)\" x=\"1221.73\" y=\"1541.47\">6</text>\n",
       "</g>\n",
       "<g clip-path=\"url(#clip1100)\">\n",
       "<text style=\"fill:#000000; fill-opacity:1; font-family:Arial,Helvetica Neue,Helvetica,sans-serif; font-size:48px; text-anchor:middle;\" transform=\"rotate(0, 1549.5, 1541.47)\" x=\"1549.5\" y=\"1541.47\">8</text>\n",
       "</g>\n",
       "<g clip-path=\"url(#clip1100)\">\n",
       "<text style=\"fill:#000000; fill-opacity:1; font-family:Arial,Helvetica Neue,Helvetica,sans-serif; font-size:48px; text-anchor:middle;\" transform=\"rotate(0, 1877.27, 1541.47)\" x=\"1877.27\" y=\"1541.47\">10</text>\n",
       "</g>\n",
       "<g clip-path=\"url(#clip1100)\">\n",
       "<text style=\"fill:#000000; fill-opacity:1; font-family:Arial,Helvetica Neue,Helvetica,sans-serif; font-size:48px; text-anchor:middle;\" transform=\"rotate(0, 2205.04, 1541.47)\" x=\"2205.04\" y=\"1541.47\">12</text>\n",
       "</g>\n",
       "<g clip-path=\"url(#clip1100)\">\n",
       "<text style=\"fill:#000000; fill-opacity:1; font-family:Arial,Helvetica Neue,Helvetica,sans-serif; font-size:48px; text-anchor:end;\" transform=\"rotate(0, 158.008, 1464.29)\" x=\"158.008\" y=\"1464.29\">-1.0</text>\n",
       "</g>\n",
       "<g clip-path=\"url(#clip1100)\">\n",
       "<text style=\"fill:#000000; fill-opacity:1; font-family:Arial,Helvetica Neue,Helvetica,sans-serif; font-size:48px; text-anchor:end;\" transform=\"rotate(0, 158.008, 1124.53)\" x=\"158.008\" y=\"1124.53\">-0.5</text>\n",
       "</g>\n",
       "<g clip-path=\"url(#clip1100)\">\n",
       "<text style=\"fill:#000000; fill-opacity:1; font-family:Arial,Helvetica Neue,Helvetica,sans-serif; font-size:48px; text-anchor:end;\" transform=\"rotate(0, 158.008, 784.769)\" x=\"158.008\" y=\"784.769\">0.0</text>\n",
       "</g>\n",
       "<g clip-path=\"url(#clip1100)\">\n",
       "<text style=\"fill:#000000; fill-opacity:1; font-family:Arial,Helvetica Neue,Helvetica,sans-serif; font-size:48px; text-anchor:end;\" transform=\"rotate(0, 158.008, 445.007)\" x=\"158.008\" y=\"445.007\">0.5</text>\n",
       "</g>\n",
       "<g clip-path=\"url(#clip1100)\">\n",
       "<text style=\"fill:#000000; fill-opacity:1; font-family:Arial,Helvetica Neue,Helvetica,sans-serif; font-size:48px; text-anchor:end;\" transform=\"rotate(0, 158.008, 105.246)\" x=\"158.008\" y=\"105.246\">1.0</text>\n",
       "</g>\n",
       "<polyline clip-path=\"url(#clip1102)\" style=\"stroke:#009af9; stroke-width:4; stroke-opacity:1; fill:none\" points=\"\n",
       "  243.444,746.424 248.472,725.599 253.5,704.813 258.528,684.086 305.02,498.647 351.512,334.682 374.757,264.944 398.003,205.296 421.249,156.935 444.495,120.833 \n",
       "  458.464,105.348 472.434,94.6687 486.404,88.8739 500.374,88.0053 514.343,92.0693 528.313,101.036 542.283,114.841 556.253,133.384 579.875,175.125 603.498,229.147 \n",
       "  615.309,260.423 627.12,294.33 638.931,330.693 650.742,369.322 702.064,558.357 753.385,767.712 800.699,961.158 848.012,1138.56 860.694,1181.44 873.375,1221.84 \n",
       "  886.056,1259.53 898.738,1294.26 924.1,1354.09 949.463,1399.89 964.155,1419.56 978.848,1433.99 993.54,1443.07 1008.23,1446.71 1022.93,1444.9 1037.62,1437.65 \n",
       "  1052.31,1425.01 1067,1407.09 1093.12,1362.68 1119.23,1303.17 1145.35,1230.09 1171.46,1145.29 1217.26,974.866 1263.06,788.337 1312.99,583.613 1362.92,395.806 \n",
       "  1388.04,313.302 1413.15,241.438 1438.27,181.899 1463.39,136.08 1477.27,117.046 1491.15,102.676 1505.04,93.0728 1518.92,88.3054 1532.81,88.4081 1546.69,93.3802 \n",
       "  1560.57,103.186 1574.46,117.755 1600.88,158.233 1627.3,214.505 1640.51,248.124 1653.72,285.113 1666.93,325.234 1680.14,368.225 1735.08,571.397 1790.02,796.378 \n",
       "  1836.27,984.284 1882.52,1155.02 1896.64,1201.59 1910.76,1244.94 1924.87,1284.75 1938.99,1320.72 1953.11,1352.58 1967.22,1380.11 1981.34,1403.09 1995.46,1421.36 \n",
       "  2008.73,1434.11 2022,1442.5 2035.26,1446.45 2048.53,1445.96 2061.8,1441.02 2075.07,1431.67 2088.34,1417.96 2101.61,1399.99 2122.87,1362.61 2144.13,1315.23 \n",
       "  2165.39,1258.65 2186.65,1193.8 2229.17,1043.82 2271.69,875.333 2278.23,848.468 2284.78,821.473 2291.32,794.393 \n",
       "  \"/>\n",
       "<polygon clip-path=\"url(#clip1100)\" points=\"\n",
       "1989.93,251.724 2280.76,251.724 2280.76,130.764 1989.93,130.764 \n",
       "  \" fill=\"#ffffff\" fill-rule=\"evenodd\" fill-opacity=\"1\"/>\n",
       "<polyline clip-path=\"url(#clip1100)\" style=\"stroke:#000000; stroke-width:4; stroke-opacity:1; fill:none\" points=\"\n",
       "  1989.93,251.724 2280.76,251.724 2280.76,130.764 1989.93,130.764 1989.93,251.724 \n",
       "  \"/>\n",
       "<polyline clip-path=\"url(#clip1100)\" style=\"stroke:#009af9; stroke-width:4; stroke-opacity:1; fill:none\" points=\"\n",
       "  2013.93,191.244 2157.93,191.244 \n",
       "  \"/>\n",
       "<g clip-path=\"url(#clip1100)\">\n",
       "<text style=\"fill:#000000; fill-opacity:1; font-family:Arial,Helvetica Neue,Helvetica,sans-serif; font-size:48px; text-anchor:start;\" transform=\"rotate(0, 2181.93, 208.744)\" x=\"2181.93\" y=\"208.744\">y1</text>\n",
       "</g>\n",
       "</svg>\n"
      ]
     },
     "execution_count": 5,
     "metadata": {},
     "output_type": "execute_result"
    }
   ],
   "source": [
    "plot(sin, 0, 4pi)"
   ]
  },
  {
   "cell_type": "code",
   "execution_count": 4,
   "metadata": {},
   "outputs": [
    {
     "data": {
      "text/plain": [
       "0.0:0.004008016032064128:2.0"
      ]
     },
     "execution_count": 4,
     "metadata": {},
     "output_type": "execute_result"
    }
   ],
   "source": [
    "x = range(0,stop=2,length=500)"
   ]
  },
  {
   "cell_type": "code",
   "execution_count": 5,
   "metadata": {},
   "outputs": [
    {
     "data": {
      "text/plain": [
       "500-element Array{Float64,1}:\n",
       " 10.0              \n",
       "  9.980188142145753\n",
       "  9.92083107052534 \n",
       "  9.822163979911878\n",
       "  9.684577825980192\n",
       "  9.508617776195164\n",
       "  9.294981049655668\n",
       "  9.044514154453433\n",
       "  8.758209533493446\n",
       "  8.437201632066401\n",
       "  8.082762402754934\n",
       "  7.696296265484861\n",
       "  7.279334542691597\n",
       "  ⋮                \n",
       "  7.696296265484844\n",
       "  8.082762402754918\n",
       "  8.437201632066404\n",
       "  8.758209533493446\n",
       "  9.044514154453433\n",
       "  9.294981049655668\n",
       "  9.508617776195164\n",
       "  9.68457782598019 \n",
       "  9.822163979911876\n",
       "  9.920831070525338\n",
       "  9.980188142145753\n",
       " 10.0              "
      ]
     },
     "execution_count": 5,
     "metadata": {},
     "output_type": "execute_result"
    }
   ],
   "source": [
    "y = 10 * cos.(5*pi*x)"
   ]
  },
  {
   "cell_type": "code",
   "execution_count": 8,
   "metadata": {},
   "outputs": [
    {
     "data": {
      "text/plain": [
       "1.0471975511965976:0.0:1.0471975511965976"
      ]
     },
     "execution_count": 8,
     "metadata": {},
     "output_type": "execute_result"
    }
   ],
   "source": [
    "a = range(pi/3,stop=pi/3,length=500)"
   ]
  },
  {
   "cell_type": "code",
   "execution_count": 7,
   "metadata": {},
   "outputs": [
    {
     "data": {
      "text/plain": [
       "10.0:0.004008016032064128:12.0"
      ]
     },
     "execution_count": 7,
     "metadata": {},
     "output_type": "execute_result"
    }
   ],
   "source": [
    "z = a + x"
   ]
  },
  {
   "cell_type": "code",
   "execution_count": 9,
   "metadata": {},
   "outputs": [
    {
     "data": {
      "text/plain": [
       "500-element Array{Float64,1}:\n",
       "  5.000000000000001 \n",
       "  3.872834203787052 \n",
       "  2.6843467799847707\n",
       "  1.4533559840004593\n",
       "  0.1993530605363658\n",
       " -1.05780637660576  \n",
       " -2.298216734062414 \n",
       " -3.502237619811776 \n",
       " -4.65080482493586  \n",
       " -5.725732182222795 \n",
       " -6.709999522044692 \n",
       " -7.588022166079437 \n",
       " -8.345897691770482 \n",
       "  ⋮                 \n",
       "  9.434617407302685 \n",
       "  9.776209133922439 \n",
       "  9.963006458251588 \n",
       "  9.992051671450957 \n",
       "  9.862884877833476 \n",
       "  9.577551276754017 \n",
       "  9.140568779360702 \n",
       "  8.55885647295709  \n",
       "  7.841625065655226 \n",
       "  7.000231045995444 \n",
       "  6.047996866738314 \n",
       "  5.000000000000032 "
      ]
     },
     "execution_count": 9,
     "metadata": {},
     "output_type": "execute_result"
    }
   ],
   "source": [
    "z = 10*cos.(10*pi*x+a)"
   ]
  },
  {
   "cell_type": "code",
   "execution_count": 11,
   "metadata": {},
   "outputs": [
    {
     "data": {
      "image/svg+xml": [
       "<?xml version=\"1.0\" encoding=\"utf-8\"?>\n",
       "<svg xmlns=\"http://www.w3.org/2000/svg\" xmlns:xlink=\"http://www.w3.org/1999/xlink\" width=\"600\" height=\"400\" viewBox=\"0 0 2400 1600\">\n",
       "<defs>\n",
       "  <clipPath id=\"clip0500\">\n",
       "    <rect x=\"0\" y=\"0\" width=\"2400\" height=\"1600\"/>\n",
       "  </clipPath>\n",
       "</defs>\n",
       "<polygon clip-path=\"url(#clip0500)\" points=\"\n",
       "0,1600 2400,1600 2400,0 0,0 \n",
       "  \" fill=\"#ffffff\" fill-rule=\"evenodd\" fill-opacity=\"1\"/>\n",
       "<defs>\n",
       "  <clipPath id=\"clip0501\">\n",
       "    <rect x=\"480\" y=\"0\" width=\"1681\" height=\"1600\"/>\n",
       "  </clipPath>\n",
       "</defs>\n",
       "<polygon clip-path=\"url(#clip0500)\" points=\"\n",
       "168.627,1487.47 2352.76,1487.47 2352.76,47.2441 168.627,47.2441 \n",
       "  \" fill=\"#ffffff\" fill-rule=\"evenodd\" fill-opacity=\"1\"/>\n",
       "<defs>\n",
       "  <clipPath id=\"clip0502\">\n",
       "    <rect x=\"168\" y=\"47\" width=\"2185\" height=\"1441\"/>\n",
       "  </clipPath>\n",
       "</defs>\n",
       "<polyline clip-path=\"url(#clip0502)\" style=\"stroke:#000000; stroke-width:2; stroke-opacity:0.1; fill:none\" points=\"\n",
       "  230.421,1487.47 230.421,47.2441 \n",
       "  \"/>\n",
       "<polyline clip-path=\"url(#clip0502)\" style=\"stroke:#000000; stroke-width:2; stroke-opacity:0.1; fill:none\" points=\"\n",
       "  745.551,1487.47 745.551,47.2441 \n",
       "  \"/>\n",
       "<polyline clip-path=\"url(#clip0502)\" style=\"stroke:#000000; stroke-width:2; stroke-opacity:0.1; fill:none\" points=\"\n",
       "  1260.68,1487.47 1260.68,47.2441 \n",
       "  \"/>\n",
       "<polyline clip-path=\"url(#clip0502)\" style=\"stroke:#000000; stroke-width:2; stroke-opacity:0.1; fill:none\" points=\"\n",
       "  1775.81,1487.47 1775.81,47.2441 \n",
       "  \"/>\n",
       "<polyline clip-path=\"url(#clip0502)\" style=\"stroke:#000000; stroke-width:2; stroke-opacity:0.1; fill:none\" points=\"\n",
       "  2290.94,1487.47 2290.94,47.2441 \n",
       "  \"/>\n",
       "<polyline clip-path=\"url(#clip0502)\" style=\"stroke:#000000; stroke-width:2; stroke-opacity:0.1; fill:none\" points=\"\n",
       "  168.627,1446.72 2352.76,1446.72 \n",
       "  \"/>\n",
       "<polyline clip-path=\"url(#clip0502)\" style=\"stroke:#000000; stroke-width:2; stroke-opacity:0.1; fill:none\" points=\"\n",
       "  168.627,1107.04 2352.76,1107.04 \n",
       "  \"/>\n",
       "<polyline clip-path=\"url(#clip0502)\" style=\"stroke:#000000; stroke-width:2; stroke-opacity:0.1; fill:none\" points=\"\n",
       "  168.627,767.362 2352.76,767.362 \n",
       "  \"/>\n",
       "<polyline clip-path=\"url(#clip0502)\" style=\"stroke:#000000; stroke-width:2; stroke-opacity:0.1; fill:none\" points=\"\n",
       "  168.627,427.683 2352.76,427.683 \n",
       "  \"/>\n",
       "<polyline clip-path=\"url(#clip0502)\" style=\"stroke:#000000; stroke-width:2; stroke-opacity:0.1; fill:none\" points=\"\n",
       "  168.627,88.0038 2352.76,88.0038 \n",
       "  \"/>\n",
       "<polyline clip-path=\"url(#clip0500)\" style=\"stroke:#000000; stroke-width:4; stroke-opacity:1; fill:none\" points=\"\n",
       "  168.627,1487.47 2352.76,1487.47 \n",
       "  \"/>\n",
       "<polyline clip-path=\"url(#clip0500)\" style=\"stroke:#000000; stroke-width:4; stroke-opacity:1; fill:none\" points=\"\n",
       "  168.627,1487.47 168.627,47.2441 \n",
       "  \"/>\n",
       "<polyline clip-path=\"url(#clip0500)\" style=\"stroke:#000000; stroke-width:4; stroke-opacity:1; fill:none\" points=\"\n",
       "  230.421,1487.47 230.421,1465.87 \n",
       "  \"/>\n",
       "<polyline clip-path=\"url(#clip0500)\" style=\"stroke:#000000; stroke-width:4; stroke-opacity:1; fill:none\" points=\"\n",
       "  745.551,1487.47 745.551,1465.87 \n",
       "  \"/>\n",
       "<polyline clip-path=\"url(#clip0500)\" style=\"stroke:#000000; stroke-width:4; stroke-opacity:1; fill:none\" points=\"\n",
       "  1260.68,1487.47 1260.68,1465.87 \n",
       "  \"/>\n",
       "<polyline clip-path=\"url(#clip0500)\" style=\"stroke:#000000; stroke-width:4; stroke-opacity:1; fill:none\" points=\"\n",
       "  1775.81,1487.47 1775.81,1465.87 \n",
       "  \"/>\n",
       "<polyline clip-path=\"url(#clip0500)\" style=\"stroke:#000000; stroke-width:4; stroke-opacity:1; fill:none\" points=\"\n",
       "  2290.94,1487.47 2290.94,1465.87 \n",
       "  \"/>\n",
       "<polyline clip-path=\"url(#clip0500)\" style=\"stroke:#000000; stroke-width:4; stroke-opacity:1; fill:none\" points=\"\n",
       "  168.627,1446.72 201.389,1446.72 \n",
       "  \"/>\n",
       "<polyline clip-path=\"url(#clip0500)\" style=\"stroke:#000000; stroke-width:4; stroke-opacity:1; fill:none\" points=\"\n",
       "  168.627,1107.04 201.389,1107.04 \n",
       "  \"/>\n",
       "<polyline clip-path=\"url(#clip0500)\" style=\"stroke:#000000; stroke-width:4; stroke-opacity:1; fill:none\" points=\"\n",
       "  168.627,767.362 201.389,767.362 \n",
       "  \"/>\n",
       "<polyline clip-path=\"url(#clip0500)\" style=\"stroke:#000000; stroke-width:4; stroke-opacity:1; fill:none\" points=\"\n",
       "  168.627,427.683 201.389,427.683 \n",
       "  \"/>\n",
       "<polyline clip-path=\"url(#clip0500)\" style=\"stroke:#000000; stroke-width:4; stroke-opacity:1; fill:none\" points=\"\n",
       "  168.627,88.0038 201.389,88.0038 \n",
       "  \"/>\n",
       "<g clip-path=\"url(#clip0500)\">\n",
       "<text style=\"fill:#000000; fill-opacity:1; font-family:Arial,Helvetica Neue,Helvetica,sans-serif; font-size:48px; text-anchor:middle;\" transform=\"rotate(0, 230.421, 1541.47)\" x=\"230.421\" y=\"1541.47\">-10</text>\n",
       "</g>\n",
       "<g clip-path=\"url(#clip0500)\">\n",
       "<text style=\"fill:#000000; fill-opacity:1; font-family:Arial,Helvetica Neue,Helvetica,sans-serif; font-size:48px; text-anchor:middle;\" transform=\"rotate(0, 745.551, 1541.47)\" x=\"745.551\" y=\"1541.47\">-5</text>\n",
       "</g>\n",
       "<g clip-path=\"url(#clip0500)\">\n",
       "<text style=\"fill:#000000; fill-opacity:1; font-family:Arial,Helvetica Neue,Helvetica,sans-serif; font-size:48px; text-anchor:middle;\" transform=\"rotate(0, 1260.68, 1541.47)\" x=\"1260.68\" y=\"1541.47\">0</text>\n",
       "</g>\n",
       "<g clip-path=\"url(#clip0500)\">\n",
       "<text style=\"fill:#000000; fill-opacity:1; font-family:Arial,Helvetica Neue,Helvetica,sans-serif; font-size:48px; text-anchor:middle;\" transform=\"rotate(0, 1775.81, 1541.47)\" x=\"1775.81\" y=\"1541.47\">5</text>\n",
       "</g>\n",
       "<g clip-path=\"url(#clip0500)\">\n",
       "<text style=\"fill:#000000; fill-opacity:1; font-family:Arial,Helvetica Neue,Helvetica,sans-serif; font-size:48px; text-anchor:middle;\" transform=\"rotate(0, 2290.94, 1541.47)\" x=\"2290.94\" y=\"1541.47\">10</text>\n",
       "</g>\n",
       "<g clip-path=\"url(#clip0500)\">\n",
       "<text style=\"fill:#000000; fill-opacity:1; font-family:Arial,Helvetica Neue,Helvetica,sans-serif; font-size:48px; text-anchor:end;\" transform=\"rotate(0, 144.627, 1464.22)\" x=\"144.627\" y=\"1464.22\">-10</text>\n",
       "</g>\n",
       "<g clip-path=\"url(#clip0500)\">\n",
       "<text style=\"fill:#000000; fill-opacity:1; font-family:Arial,Helvetica Neue,Helvetica,sans-serif; font-size:48px; text-anchor:end;\" transform=\"rotate(0, 144.627, 1124.54)\" x=\"144.627\" y=\"1124.54\">-5</text>\n",
       "</g>\n",
       "<g clip-path=\"url(#clip0500)\">\n",
       "<text style=\"fill:#000000; fill-opacity:1; font-family:Arial,Helvetica Neue,Helvetica,sans-serif; font-size:48px; text-anchor:end;\" transform=\"rotate(0, 144.627, 784.862)\" x=\"144.627\" y=\"784.862\">0</text>\n",
       "</g>\n",
       "<g clip-path=\"url(#clip0500)\">\n",
       "<text style=\"fill:#000000; fill-opacity:1; font-family:Arial,Helvetica Neue,Helvetica,sans-serif; font-size:48px; text-anchor:end;\" transform=\"rotate(0, 144.627, 445.183)\" x=\"144.627\" y=\"445.183\">5</text>\n",
       "</g>\n",
       "<g clip-path=\"url(#clip0500)\">\n",
       "<text style=\"fill:#000000; fill-opacity:1; font-family:Arial,Helvetica Neue,Helvetica,sans-serif; font-size:48px; text-anchor:end;\" transform=\"rotate(0, 144.627, 105.504)\" x=\"144.627\" y=\"105.504\">10</text>\n",
       "</g>\n",
       "<polyline clip-path=\"url(#clip0502)\" style=\"stroke:#009af9; stroke-width:4; stroke-opacity:1; fill:none\" points=\"\n",
       "  2290.94,427.683 2288.9,504.258 2282.78,584.998 2272.62,668.627 2258.44,753.818 2240.32,839.225 2218.31,923.493 2192.5,1005.29 2163,1083.32 2129.93,1156.34 \n",
       "  2093.42,1223.21 2053.6,1282.86 2010.64,1334.35 1964.71,1376.86 1915.99,1409.71 1864.68,1432.4 1810.97,1444.56 1755.08,1446 1697.23,1436.69 1637.65,1416.78 \n",
       "  1576.58,1386.59 1514.26,1346.59 1450.93,1297.42 1386.85,1239.86 1322.26,1174.82 1257.44,1103.33 1192.62,1026.52 1128.08,945.601 1064.06,861.863 1000.82,776.628 \n",
       "  938.614,691.247 877.681,607.071 818.265,525.433 760.603,447.626 704.921,374.881 651.442,308.35 600.377,249.088 551.929,198.032 506.288,155.99 463.637,123.629 \n",
       "  424.144,101.46 387.966,89.8356 355.246,88.9386 326.113,98.7836 300.683,119.215 279.058,149.909 261.322,190.379 247.545,239.985 237.784,297.942 232.075,363.331 \n",
       "  230.442,435.118 232.891,512.165 239.413,593.253 249.981,677.098 264.554,762.372 283.074,847.725 305.468,931.805 331.647,1013.28 361.506,1090.87 394.929,1163.33 \n",
       "  431.782,1229.52 471.92,1288.39 515.183,1339.01 561.4,1380.59 610.387,1412.45 661.952,1434.1 715.888,1445.19 771.984,1445.55 830.016,1435.17 889.754,1414.21 \n",
       "  950.962,1383.02 1013.4,1342.08 1076.81,1292.03 1140.96,1233.68 1205.57,1167.95 1270.41,1095.87 1335.21,1018.59 1399.71,937.333 1463.66,853.385 1526.81,768.075 \n",
       "  1588.9,682.753 1649.7,598.771 1708.95,517.459 1766.42,440.104 1821.89,367.93 1875.14,302.081 1925.95,243.599 1974.13,193.41 2019.48,152.309 2061.82,120.946 \n",
       "  2100.99,99.8191 2136.83,89.2616 2169.19,89.441 2197.96,100.354 2223.01,121.829 2244.25,153.525 2261.6,194.94 2274.97,245.419 2284.33,304.162 2289.63,370.24 \n",
       "  2290.86,442.605 2288,520.113 2281.07,601.535 2270.1,685.583 2255.13,770.926 2236.22,856.212 2213.45,940.092 2186.89,1021.24 2156.67,1098.36 2122.9,1170.25 \n",
       "  2085.71,1235.75 2045.25,1293.84 2001.69,1343.59 1955.19,1384.22 1905.93,1415.08 1854.12,1435.69 1799.96,1445.71 1743.66,1444.99 1685.45,1433.54 1625.55,1411.55 \n",
       "  1564.21,1379.35 1501.66,1337.47 1438.16,1286.56 1373.96,1227.42 1309.31,1161.01 1244.47,1088.36 1179.69,1010.62 1115.23,929.037 1051.34,844.893 988.292,759.521 \n",
       "  926.318,674.272 865.669,590.498 806.585,509.525 749.301,432.633 694.043,361.042 641.03,295.885 590.472,238.192 542.57,188.879 497.513,148.725 455.481,118.366 \n",
       "  416.638,98.2836 381.141,88.7951 349.128,90.0508 320.727,102.031 296.051,124.546 275.197,157.239 258.248,199.592 245.27,250.936 236.317,310.457 231.422,377.212 \n",
       "  230.605,450.144 233.87,528.1 241.204,609.843 252.577,694.081 267.945,779.479 287.246,864.686 310.404,948.351 337.328,1029.15 367.91,1105.81 402.03,1177.1 \n",
       "  439.552,1241.91 480.328,1299.2 524.196,1348.08 570.982,1387.75 620.5,1417.61 672.556,1437.17 726.942,1446.12 783.443,1444.33 841.834,1431.81 901.886,1408.78 \n",
       "  963.359,1375.59 1026.01,1332.77 1089.59,1281 1153.85,1221.09 1218.53,1154 1283.38,1080.79 1348.14,1002.62 1412.55,920.716 1476.36,836.389 1539.32,750.968 \n",
       "  1601.17,665.807 1661.68,582.253 1720.59,501.631 1777.68,425.216 1832.73,354.219 1885.5,289.763 1935.8,232.87 1983.43,184.44 2028.19,145.239 2069.91,115.889 \n",
       "  2108.43,96.8542 2143.58,88.4361 2175.24,90.768 2203.27,103.813 2227.57,127.364 2248.04,161.049 2264.59,204.335 2277.17,256.535 2285.72,316.823 2290.21,384.245 \n",
       "  2290.61,457.733 2286.94,536.124 2279.2,618.177 2267.43,702.591 2251.66,788.031 2231.97,873.144 2208.43,956.582 2181.14,1037.02 2150.2,1113.2 2115.73,1183.89 \n",
       "  2077.88,1247.99 2036.78,1304.48 1992.62,1352.47 1945.55,1391.19 1895.77,1420.03 1843.47,1438.54 1788.86,1446.43 1732.16,1443.56 1673.59,1429.98 1613.39,1405.91 \n",
       "  1551.79,1371.73 1489.03,1327.98 1425.37,1275.36 1361.06,1214.69 1296.35,1146.94 1231.5,1073.18 1166.76,994.573 1102.4,912.371 1038.66,827.873 975.803,742.418 \n",
       "  914.074,657.357 853.719,574.038 794.977,493.78 738.08,417.854 683.253,347.461 630.715,283.718 580.673,227.632 533.325,180.093 488.859,141.852 447.452,113.515 \n",
       "  409.267,95.5311 374.455,88.1848 343.155,91.5925 315.491,105.7 291.572,130.284 271.492,164.956 255.333,209.166 243.156,262.214 235.012,323.261 230.932,391.34 \n",
       "  230.932,465.372 235.012,544.186 243.156,626.534 255.333,711.111 271.492,796.579 291.572,881.585 315.491,964.782 343.155,1044.85 374.455,1120.53 409.267,1190.62 \n",
       "  447.452,1254 488.859,1309.68 533.325,1356.77 580.673,1394.53 630.715,1422.36 683.253,1439.81 738.08,1446.62 794.977,1442.68 853.719,1428.04 914.074,1402.94 \n",
       "  975.803,1367.78 1038.66,1323.11 1102.4,1269.64 1166.76,1208.22 1231.5,1139.81 1296.35,1065.51 1361.06,986.493 1425.37,904.003 1489.03,819.349 1551.79,733.871 \n",
       "  1613.39,648.924 1673.59,565.853 1732.16,485.972 1788.86,410.546 1843.47,340.77 1895.77,277.749 1945.55,222.48 1992.62,175.839 2036.78,138.564 2077.88,111.245 \n",
       "  2115.73,94.3145 2150.2,88.0412 2181.14,92.5241 2208.43,107.692 2231.97,133.305 2251.66,168.958 2267.43,214.086 2279.2,267.974 2286.94,329.769 2290.61,398.494 \n",
       "  2290.21,473.058 2285.72,552.283 2277.17,634.913 2264.59,719.64 2248.04,805.123 2227.57,890.008 2203.27,972.951 2175.24,1052.64 2143.58,1127.81 2108.43,1197.27 \n",
       "  2069.91,1259.93 2028.19,1314.79 1983.43,1360.98 1935.8,1397.77 1885.5,1424.57 1832.73,1440.98 1777.68,1446.71 1720.59,1441.69 1661.68,1426 1601.17,1399.87 \n",
       "  1539.32,1363.73 1476.36,1318.14 1412.55,1263.84 1348.14,1201.67 1283.38,1132.63 1218.53,1057.8 1153.85,978.379 1089.59,895.613 1026.01,810.816 963.359,725.331 \n",
       "  901.886,640.511 841.834,557.7 783.443,478.208 726.942,403.295 672.556,334.147 620.5,271.858 570.982,217.415 524.196,171.679 480.328,135.375 439.552,109.078 \n",
       "  402.03,93.2047 367.91,88.0053 337.328,93.5628 310.404,109.789 287.246,136.427 267.945,173.055 252.577,219.094 241.204,273.813 233.87,336.347 230.605,405.706 \n",
       "  231.422,480.791 236.317,560.414 245.27,643.313 258.248,728.177 275.197,813.661 296.051,898.412 320.727,981.088 349.128,1060.38 381.141,1135.03 416.638,1203.86 \n",
       "  455.481,1265.78 497.513,1319.81 542.57,1365.09 590.472,1400.9 641.03,1426.69 694.043,1442.03 749.301,1446.7 806.585,1440.6 865.669,1423.85 926.318,1396.7 \n",
       "  988.292,1359.58 1051.34,1313.09 1115.23,1257.96 1179.69,1195.06 1244.47,1125.39 1309.31,1050.05 1373.96,970.232 1438.16,887.202 1501.66,802.276 1564.21,716.796 \n",
       "  1625.55,632.117 1685.45,549.58 1743.66,470.491 1799.96,396.102 1854.12,327.592 1905.93,266.045 1955.19,212.436 2001.69,167.614 2045.25,132.287 2085.71,107.017 \n",
       "  2122.9,92.2017 2156.67,88.0771 2186.89,94.7082 2213.45,111.99 2236.22,139.649 2255.13,177.247 2270.1,224.188 2281.07,279.73 2288,342.993 2290.86,412.976 \n",
       "  2289.63,488.57 2284.33,568.578 2274.97,651.733 2261.6,736.72 2244.25,822.191 2223.01,906.795 2197.96,989.19 2169.19,1068.07 2136.83,1142.2 2100.99,1210.38 \n",
       "  2061.82,1271.55 2019.48,1324.74 1974.13,1369.11 1925.95,1403.94 1875.14,1428.7 1821.89,1442.98 1766.42,1446.57 1708.95,1439.4 1649.7,1421.59 1588.9,1393.43 \n",
       "  1526.81,1355.35 1463.66,1307.96 1399.71,1252.01 1335.21,1188.38 1270.41,1118.09 1205.57,1042.25 1140.96,962.052 1076.81,878.773 1013.4,793.73 950.962,708.27 \n",
       "  889.754,623.745 830.016,541.495 771.984,462.82 715.888,388.968 661.952,321.107 610.387,260.312 561.4,207.546 515.183,163.643 471.92,129.3 431.782,105.059 \n",
       "  394.929,91.3058 361.506,88.2566 331.647,95.9603 305.468,114.295 283.074,142.97 264.554,181.531 249.981,229.369 239.413,285.725 232.891,349.707 230.442,420.302 \n",
       "  232.075,496.392 237.784,576.773 247.545,660.171 261.322,745.267 279.058,830.713 300.683,915.155 326.113,997.258 355.246,1075.72 387.966,1149.3 424.144,1216.83 \n",
       "  463.637,1277.25 506.288,1329.59 551.929,1373.03 600.377,1406.88 651.442,1430.6 704.921,1443.83 760.603,1446.34 818.265,1438.1 877.681,1419.24 938.614,1390.06 \n",
       "  1000.82,1351.01 1064.06,1302.73 1128.08,1245.97 1192.62,1181.64 1257.44,1110.74 1322.26,1034.4 1386.85,953.841 1450.93,870.326 1514.26,785.181 1576.58,699.753 \n",
       "  1637.65,615.396 1697.23,533.445 1755.08,455.198 1810.97,381.894 1864.68,314.693 1915.99,254.659 1964.71,202.744 2010.64,159.768 2053.6,126.414 2093.42,103.207 \n",
       "  2129.93,90.517 2163,88.5438 2192.5,97.3189 2218.31,116.703 2240.32,146.39 2258.44,185.909 2272.62,234.635 2282.78,291.795 2288.9,356.486 2290.94,427.683 \n",
       "  \n",
       "  \"/>\n",
       "<polygon clip-path=\"url(#clip0500)\" points=\"\n",
       "1989.93,251.724 2280.76,251.724 2280.76,130.764 1989.93,130.764 \n",
       "  \" fill=\"#ffffff\" fill-rule=\"evenodd\" fill-opacity=\"1\"/>\n",
       "<polyline clip-path=\"url(#clip0500)\" style=\"stroke:#000000; stroke-width:4; stroke-opacity:1; fill:none\" points=\"\n",
       "  1989.93,251.724 2280.76,251.724 2280.76,130.764 1989.93,130.764 1989.93,251.724 \n",
       "  \"/>\n",
       "<polyline clip-path=\"url(#clip0500)\" style=\"stroke:#009af9; stroke-width:4; stroke-opacity:1; fill:none\" points=\"\n",
       "  2013.93,191.244 2157.93,191.244 \n",
       "  \"/>\n",
       "<g clip-path=\"url(#clip0500)\">\n",
       "<text style=\"fill:#000000; fill-opacity:1; font-family:Arial,Helvetica Neue,Helvetica,sans-serif; font-size:48px; text-anchor:start;\" transform=\"rotate(0, 2181.93, 208.744)\" x=\"2181.93\" y=\"208.744\">y1</text>\n",
       "</g>\n",
       "</svg>\n"
      ]
     },
     "execution_count": 11,
     "metadata": {},
     "output_type": "execute_result"
    }
   ],
   "source": [
    "plot(y,z)"
   ]
  },
  {
   "cell_type": "code",
   "execution_count": 20,
   "metadata": {},
   "outputs": [
    {
     "data": {
      "text/plain": [
       "0.0:0.02004008016032064:10.0"
      ]
     },
     "execution_count": 20,
     "metadata": {},
     "output_type": "execute_result"
    }
   ],
   "source": [
    "x = range(0,stop=10,length=500)"
   ]
  },
  {
   "cell_type": "code",
   "execution_count": 21,
   "metadata": {},
   "outputs": [
    {
     "data": {
      "text/plain": [
       "500-element Array{Float64,1}:\n",
       "  1.0                \n",
       "  0.7696296265484862 \n",
       "  0.18465952412232467\n",
       " -0.4853907453707146 \n",
       " -0.9318017203018332 \n",
       " -0.9488936746555593 \n",
       " -0.5287916486169243 \n",
       "  0.13494623656155547\n",
       "  0.7365088919149115 \n",
       "  0.9987318903066703 \n",
       "  0.8007984116026609 \n",
       "  0.2339044746180835 \n",
       " -0.4407587847059906 \n",
       "  ⋮                  \n",
       "  0.2339044746180333 \n",
       "  0.8007984116026394 \n",
       "  0.9987318903066741 \n",
       "  0.7365088919149531 \n",
       "  0.1349462365616005 \n",
       " -0.5287916486168993 \n",
       " -0.948893674655537  \n",
       " -0.9318017203018533 \n",
       " -0.4853907453707489 \n",
       "  0.18465952412230138\n",
       "  0.7696296265484448 \n",
       "  1.0                "
      ]
     },
     "execution_count": 21,
     "metadata": {},
     "output_type": "execute_result"
    }
   ],
   "source": [
    "a = cos.(11*pi*x)"
   ]
  },
  {
   "cell_type": "code",
   "execution_count": 22,
   "metadata": {},
   "outputs": [
    {
     "data": {
      "text/plain": [
       "500-element Array{Float64,1}:\n",
       " 1.0               \n",
       " 0.9980188142145753\n",
       " 0.992083107052534 \n",
       " 0.9822163979911878\n",
       " 0.9684577825980192\n",
       " 0.9508617776195164\n",
       " 0.9294981049655668\n",
       " 0.9044514154453432\n",
       " 0.8758209533493445\n",
       " 0.8437201632066401\n",
       " 0.8082762402754935\n",
       " 0.7696296265484861\n",
       " 0.7279334542691597\n",
       " ⋮                 \n",
       " 0.7696296265484844\n",
       " 0.8082762402754918\n",
       " 0.8437201632066404\n",
       " 0.8758209533493446\n",
       " 0.9044514154453432\n",
       " 0.9294981049655667\n",
       " 0.9508617776195164\n",
       " 0.9684577825980191\n",
       " 0.9822163979911877\n",
       " 0.9920831070525339\n",
       " 0.9980188142145753\n",
       " 1.0               "
      ]
     },
     "execution_count": 22,
     "metadata": {},
     "output_type": "execute_result"
    }
   ],
   "source": [
    "b = cos.(pi*x)"
   ]
  },
  {
   "cell_type": "code",
   "execution_count": 26,
   "metadata": {},
   "outputs": [
    {
     "data": {
      "text/plain": [
       "500-element Array{Float64,1}:\n",
       "  1.0                \n",
       "  0.7681048472723266 \n",
       "  0.1831975944381182 \n",
       " -0.47675874953628106\n",
       " -0.9024106278645331 \n",
       " -0.9022667262549001 \n",
       " -0.49151083531104905\n",
       "  0.12205231466712096\n",
       "  0.6450499198671872 \n",
       "  0.8426502334892201 \n",
       "  0.6472663293487858 \n",
       "  0.18001981344833545\n",
       " -0.3208430646505086 \n",
       "  ⋮                  \n",
       "  0.18001981344829643\n",
       "  0.6472663293487672 \n",
       "  0.8426502334892236 \n",
       "  0.6450499198672236 \n",
       "  0.12205231466716171\n",
       " -0.49151083531102574\n",
       " -0.9022667262548789 \n",
       " -0.9024106278645524 \n",
       " -0.4767587495363147 \n",
       "  0.18319759443809508\n",
       "  0.7681048472722852 \n",
       "  1.0                "
      ]
     },
     "execution_count": 26,
     "metadata": {},
     "output_type": "execute_result"
    }
   ],
   "source": [
    "c = a .*b"
   ]
  },
  {
   "cell_type": "code",
   "execution_count": 27,
   "metadata": {},
   "outputs": [
    {
     "data": {
      "text/plain": [
       "500-element Array{Float64,1}:\n",
       "  6.283185307179586 \n",
       "  4.826145090754903 \n",
       "  1.151064433684229 \n",
       " -2.9955635701556735\n",
       " -5.67001319804114  \n",
       " -5.669109037561814 \n",
       " -3.088253658745949 \n",
       "  0.766877310223714 \n",
       "  4.05296817890688  \n",
       "  5.294527566150915 \n",
       "  4.066894290396354 \n",
       "  1.1310978468597914\n",
       " -2.015916429722546 \n",
       "  ⋮                 \n",
       "  1.1310978468595463\n",
       "  4.066894290396236 \n",
       "  5.294527566150937 \n",
       "  4.052968178907109 \n",
       "  0.76687731022397  \n",
       " -3.0882536587458023\n",
       " -5.669109037561681 \n",
       " -5.670013198041261 \n",
       " -2.995563570155885 \n",
       "  1.1510644336840836\n",
       "  4.826145090754642 \n",
       "  6.283185307179586 "
      ]
     },
     "execution_count": 27,
     "metadata": {},
     "output_type": "execute_result"
    }
   ],
   "source": [
    "y=2*pi*c"
   ]
  },
  {
   "cell_type": "code",
   "execution_count": 28,
   "metadata": {},
   "outputs": [
    {
     "data": {
      "image/svg+xml": [
       "<?xml version=\"1.0\" encoding=\"utf-8\"?>\n",
       "<svg xmlns=\"http://www.w3.org/2000/svg\" xmlns:xlink=\"http://www.w3.org/1999/xlink\" width=\"600\" height=\"400\" viewBox=\"0 0 2400 1600\">\n",
       "<defs>\n",
       "  <clipPath id=\"clip1700\">\n",
       "    <rect x=\"0\" y=\"0\" width=\"2400\" height=\"1600\"/>\n",
       "  </clipPath>\n",
       "</defs>\n",
       "<polygon clip-path=\"url(#clip1700)\" points=\"\n",
       "0,1600 2400,1600 2400,0 0,0 \n",
       "  \" fill=\"#ffffff\" fill-rule=\"evenodd\" fill-opacity=\"1\"/>\n",
       "<defs>\n",
       "  <clipPath id=\"clip1701\">\n",
       "    <rect x=\"480\" y=\"0\" width=\"1681\" height=\"1600\"/>\n",
       "  </clipPath>\n",
       "</defs>\n",
       "<polygon clip-path=\"url(#clip1700)\" points=\"\n",
       "182.008,1487.47 2352.76,1487.47 2352.76,47.2441 182.008,47.2441 \n",
       "  \" fill=\"#ffffff\" fill-rule=\"evenodd\" fill-opacity=\"1\"/>\n",
       "<defs>\n",
       "  <clipPath id=\"clip1702\">\n",
       "    <rect x=\"182\" y=\"47\" width=\"2172\" height=\"1441\"/>\n",
       "  </clipPath>\n",
       "</defs>\n",
       "<polyline clip-path=\"url(#clip1702)\" style=\"stroke:#000000; stroke-width:2; stroke-opacity:0.1; fill:none\" points=\"\n",
       "  243.444,1487.47 243.444,47.2441 \n",
       "  \"/>\n",
       "<polyline clip-path=\"url(#clip1702)\" style=\"stroke:#000000; stroke-width:2; stroke-opacity:0.1; fill:none\" points=\"\n",
       "  755.413,1487.47 755.413,47.2441 \n",
       "  \"/>\n",
       "<polyline clip-path=\"url(#clip1702)\" style=\"stroke:#000000; stroke-width:2; stroke-opacity:0.1; fill:none\" points=\"\n",
       "  1267.38,1487.47 1267.38,47.2441 \n",
       "  \"/>\n",
       "<polyline clip-path=\"url(#clip1702)\" style=\"stroke:#000000; stroke-width:2; stroke-opacity:0.1; fill:none\" points=\"\n",
       "  1779.35,1487.47 1779.35,47.2441 \n",
       "  \"/>\n",
       "<polyline clip-path=\"url(#clip1702)\" style=\"stroke:#000000; stroke-width:2; stroke-opacity:0.1; fill:none\" points=\"\n",
       "  2291.32,1487.47 2291.32,47.2441 \n",
       "  \"/>\n",
       "<polyline clip-path=\"url(#clip1702)\" style=\"stroke:#000000; stroke-width:2; stroke-opacity:0.1; fill:none\" points=\"\n",
       "  182.008,1332.98 2352.76,1332.98 \n",
       "  \"/>\n",
       "<polyline clip-path=\"url(#clip1702)\" style=\"stroke:#000000; stroke-width:2; stroke-opacity:0.1; fill:none\" points=\"\n",
       "  182.008,1057.13 2352.76,1057.13 \n",
       "  \"/>\n",
       "<polyline clip-path=\"url(#clip1702)\" style=\"stroke:#000000; stroke-width:2; stroke-opacity:0.1; fill:none\" points=\"\n",
       "  182.008,781.284 2352.76,781.284 \n",
       "  \"/>\n",
       "<polyline clip-path=\"url(#clip1702)\" style=\"stroke:#000000; stroke-width:2; stroke-opacity:0.1; fill:none\" points=\"\n",
       "  182.008,505.437 2352.76,505.437 \n",
       "  \"/>\n",
       "<polyline clip-path=\"url(#clip1702)\" style=\"stroke:#000000; stroke-width:2; stroke-opacity:0.1; fill:none\" points=\"\n",
       "  182.008,229.59 2352.76,229.59 \n",
       "  \"/>\n",
       "<polyline clip-path=\"url(#clip1700)\" style=\"stroke:#000000; stroke-width:4; stroke-opacity:1; fill:none\" points=\"\n",
       "  182.008,1487.47 2352.76,1487.47 \n",
       "  \"/>\n",
       "<polyline clip-path=\"url(#clip1700)\" style=\"stroke:#000000; stroke-width:4; stroke-opacity:1; fill:none\" points=\"\n",
       "  182.008,1487.47 182.008,47.2441 \n",
       "  \"/>\n",
       "<polyline clip-path=\"url(#clip1700)\" style=\"stroke:#000000; stroke-width:4; stroke-opacity:1; fill:none\" points=\"\n",
       "  243.444,1487.47 243.444,1465.87 \n",
       "  \"/>\n",
       "<polyline clip-path=\"url(#clip1700)\" style=\"stroke:#000000; stroke-width:4; stroke-opacity:1; fill:none\" points=\"\n",
       "  755.413,1487.47 755.413,1465.87 \n",
       "  \"/>\n",
       "<polyline clip-path=\"url(#clip1700)\" style=\"stroke:#000000; stroke-width:4; stroke-opacity:1; fill:none\" points=\"\n",
       "  1267.38,1487.47 1267.38,1465.87 \n",
       "  \"/>\n",
       "<polyline clip-path=\"url(#clip1700)\" style=\"stroke:#000000; stroke-width:4; stroke-opacity:1; fill:none\" points=\"\n",
       "  1779.35,1487.47 1779.35,1465.87 \n",
       "  \"/>\n",
       "<polyline clip-path=\"url(#clip1700)\" style=\"stroke:#000000; stroke-width:4; stroke-opacity:1; fill:none\" points=\"\n",
       "  2291.32,1487.47 2291.32,1465.87 \n",
       "  \"/>\n",
       "<polyline clip-path=\"url(#clip1700)\" style=\"stroke:#000000; stroke-width:4; stroke-opacity:1; fill:none\" points=\"\n",
       "  182.008,1332.98 214.569,1332.98 \n",
       "  \"/>\n",
       "<polyline clip-path=\"url(#clip1700)\" style=\"stroke:#000000; stroke-width:4; stroke-opacity:1; fill:none\" points=\"\n",
       "  182.008,1057.13 214.569,1057.13 \n",
       "  \"/>\n",
       "<polyline clip-path=\"url(#clip1700)\" style=\"stroke:#000000; stroke-width:4; stroke-opacity:1; fill:none\" points=\"\n",
       "  182.008,781.284 214.569,781.284 \n",
       "  \"/>\n",
       "<polyline clip-path=\"url(#clip1700)\" style=\"stroke:#000000; stroke-width:4; stroke-opacity:1; fill:none\" points=\"\n",
       "  182.008,505.437 214.569,505.437 \n",
       "  \"/>\n",
       "<polyline clip-path=\"url(#clip1700)\" style=\"stroke:#000000; stroke-width:4; stroke-opacity:1; fill:none\" points=\"\n",
       "  182.008,229.59 214.569,229.59 \n",
       "  \"/>\n",
       "<g clip-path=\"url(#clip1700)\">\n",
       "<text style=\"fill:#000000; fill-opacity:1; font-family:Arial,Helvetica Neue,Helvetica,sans-serif; font-size:48px; text-anchor:middle;\" transform=\"rotate(0, 243.444, 1541.47)\" x=\"243.444\" y=\"1541.47\">0.0</text>\n",
       "</g>\n",
       "<g clip-path=\"url(#clip1700)\">\n",
       "<text style=\"fill:#000000; fill-opacity:1; font-family:Arial,Helvetica Neue,Helvetica,sans-serif; font-size:48px; text-anchor:middle;\" transform=\"rotate(0, 755.413, 1541.47)\" x=\"755.413\" y=\"1541.47\">2.5</text>\n",
       "</g>\n",
       "<g clip-path=\"url(#clip1700)\">\n",
       "<text style=\"fill:#000000; fill-opacity:1; font-family:Arial,Helvetica Neue,Helvetica,sans-serif; font-size:48px; text-anchor:middle;\" transform=\"rotate(0, 1267.38, 1541.47)\" x=\"1267.38\" y=\"1541.47\">5.0</text>\n",
       "</g>\n",
       "<g clip-path=\"url(#clip1700)\">\n",
       "<text style=\"fill:#000000; fill-opacity:1; font-family:Arial,Helvetica Neue,Helvetica,sans-serif; font-size:48px; text-anchor:middle;\" transform=\"rotate(0, 1779.35, 1541.47)\" x=\"1779.35\" y=\"1541.47\">7.5</text>\n",
       "</g>\n",
       "<g clip-path=\"url(#clip1700)\">\n",
       "<text style=\"fill:#000000; fill-opacity:1; font-family:Arial,Helvetica Neue,Helvetica,sans-serif; font-size:48px; text-anchor:middle;\" transform=\"rotate(0, 2291.32, 1541.47)\" x=\"2291.32\" y=\"1541.47\">10.0</text>\n",
       "</g>\n",
       "<g clip-path=\"url(#clip1700)\">\n",
       "<text style=\"fill:#000000; fill-opacity:1; font-family:Arial,Helvetica Neue,Helvetica,sans-serif; font-size:48px; text-anchor:end;\" transform=\"rotate(0, 158.008, 1350.48)\" x=\"158.008\" y=\"1350.48\">-5.0</text>\n",
       "</g>\n",
       "<g clip-path=\"url(#clip1700)\">\n",
       "<text style=\"fill:#000000; fill-opacity:1; font-family:Arial,Helvetica Neue,Helvetica,sans-serif; font-size:48px; text-anchor:end;\" transform=\"rotate(0, 158.008, 1074.63)\" x=\"158.008\" y=\"1074.63\">-2.5</text>\n",
       "</g>\n",
       "<g clip-path=\"url(#clip1700)\">\n",
       "<text style=\"fill:#000000; fill-opacity:1; font-family:Arial,Helvetica Neue,Helvetica,sans-serif; font-size:48px; text-anchor:end;\" transform=\"rotate(0, 158.008, 798.784)\" x=\"158.008\" y=\"798.784\">0.0</text>\n",
       "</g>\n",
       "<g clip-path=\"url(#clip1700)\">\n",
       "<text style=\"fill:#000000; fill-opacity:1; font-family:Arial,Helvetica Neue,Helvetica,sans-serif; font-size:48px; text-anchor:end;\" transform=\"rotate(0, 158.008, 522.937)\" x=\"158.008\" y=\"522.937\">2.5</text>\n",
       "</g>\n",
       "<g clip-path=\"url(#clip1700)\">\n",
       "<text style=\"fill:#000000; fill-opacity:1; font-family:Arial,Helvetica Neue,Helvetica,sans-serif; font-size:48px; text-anchor:end;\" transform=\"rotate(0, 158.008, 247.09)\" x=\"158.008\" y=\"247.09\">5.0</text>\n",
       "</g>\n",
       "<polyline clip-path=\"url(#clip1702)\" style=\"stroke:#009af9; stroke-width:4; stroke-opacity:1; fill:none\" points=\"\n",
       "  243.444,88.0053 247.548,248.773 251.652,654.277 255.756,1111.81 259.86,1406.91 263.964,1406.81 268.068,1122.04 272.172,696.667 276.276,334.084 280.38,197.093 \n",
       "  284.484,332.548 288.588,656.48 292.692,1003.72 296.796,1213.51 300.9,1206.19 305.004,1013.3 309.108,749.849 313.212,547.896 317.316,489.012 321.42,570.754 \n",
       "  325.523,721.22 329.627,848.686 333.731,895.296 337.835,864.129 341.939,806.623 346.043,781.359 350.147,811.727 354.251,869.496 358.355,894.667 362.459,839.074 \n",
       "  366.563,705.808 370.667,557.95 374.771,487.866 378.875,562.375 382.979,775.398 387.083,1038.04 391.187,1216.63 395.291,1201.85 399.395,972.964 403.499,620.047 \n",
       "  407.603,308.249 411.707,198.216 415.811,362.137 419.915,739.741 424.018,1160 428.122,1421 432.226,1389.51 436.33,1070.16 440.434,607.671 444.538,219.268 \n",
       "  448.642,89.6809 452.746,280.828 456.85,701.422 460.954,1151.76 465.058,1421.22 469.162,1389.65 473.266,1082.61 477.37,654.258 481.474,308.391 485.578,198.809 \n",
       "  489.682,358.803 493.786,693.141 497.89,1033.02 501.994,1222.9 506.098,1193.83 510.202,987.835 514.306,724.961 518.41,534.923 522.514,491.625 526.617,584.261 \n",
       "  530.721,736.37 534.825,857.434 538.929,895.103 543.033,858.494 547.137,801.873 551.241,781.962 555.345,817.134 559.449,874.526 563.553,893.185 567.657,828.631 \n",
       "  571.761,690.223 575.865,545.947 579.969,488.23 584.073,578.313 588.177,801.483 592.281,1061.93 596.385,1225.05 600.489,1187.96 604.593,940.903 608.697,584.028 \n",
       "  612.801,286.046 616.905,202.196 621.009,392.424 625.112,783.269 629.216,1196.32 633.32,1432.14 637.424,1369.12 641.528,1027.02 645.632,561.835 649.736,192.459 \n",
       "  653.84,94.6991 657.944,315.274 662.048,748.874 666.152,1189.82 670.256,1432.39 674.36,1369.62 678.464,1041.93 682.568,612.719 686.672,285.168 690.776,203.335 \n",
       "  694.88,386.866 698.984,729.845 703.088,1060.75 707.192,1230 711.296,1179.63 715.4,961.793 719.504,700.852 723.607,523.493 727.711,495.657 731.815,598.375 \n",
       "  735.919,751.175 740.023,865.293 744.127,894.127 748.231,852.656 752.335,797.526 756.439,783.163 760.543,822.789 764.647,879.154 768.751,890.822 772.855,817.396 \n",
       "  776.959,674.557 781.063,534.836 785.167,490.14 789.271,595.655 793.375,827.977 797.479,1084.81 801.583,1231.38 805.687,1171.87 809.791,907.682 813.895,548.609 \n",
       "  817.999,266.067 822.102,209.035 826.206,424.81 830.31,827.038 834.414,1230.79 838.518,1440.18 842.622,1345.81 846.726,982.588 850.83,516.994 854.934,168.48 \n",
       "  859.038,103.035 863.142,351.938 867.246,796.399 871.35,1225.81 875.454,1440.38 879.558,1346.84 883.662,1000.2 887.766,572.248 891.87,264.512 895.974,210.626 \n",
       "  900.078,416.58 904.182,766.409 908.286,1086.78 912.39,1234.8 916.494,1163.69 920.597,935.32 924.701,677.633 928.805,513.634 932.909,501.048 937.013,612.996 \n",
       "  941.117,765.555 945.221,872.244 949.325,892.411 953.429,846.684 957.533,793.624 961.637,784.95 965.741,828.634 969.845,883.317 973.949,887.558 978.053,805.416 \n",
       "  982.157,658.904 986.261,524.707 990.365,493.622 994.469,614.335 998.573,854.746 1002.68,1106.56 1006.78,1235.58 1010.88,1153.63 1014.99,873.457 1019.09,513.975 \n",
       "  1023.2,248.434 1027.3,218.72 1031.4,459.149 1035.51,870.833 1039.61,1263.24 1043.72,1445.05 1047.82,1319.7 1051.92,937.087 1056.03,473.372 1060.13,147.452 \n",
       "  1064.24,114.647 1068.34,390.639 1072.44,843.764 1076.55,1259.56 1080.65,1445.16 1084.76,1321.42 1088.86,957.631 1092.96,533.041 1097.07,246.508 1101.17,220.622 \n",
       "  1105.28,447.784 1109.38,802.649 1113.48,1111 1117.59,1237.32 1121.69,1146.12 1125.8,908.559 1129.9,655.41 1134,505.365 1138.11,507.734 1142.21,628.024 \n",
       "  1146.32,779.434 1150.42,878.273 1154.52,890.003 1158.63,840.646 1162.73,790.206 1166.83,787.305 1170.94,834.607 1175.04,886.953 1179.15,883.378 1183.25,792.742 \n",
       "  1187.35,643.36 1191.46,515.646 1195.56,498.694 1199.67,634.281 1203.77,881.653 1207.87,1127.04 1211.98,1237.57 1216.08,1133.32 1220.19,838.39 1224.29,480.307 \n",
       "  1228.39,233.253 1232.5,231.225 1236.6,495.282 1240.71,914.436 1244.81,1293.51 1248.91,1446.71 1253.02,1290.91 1257.12,890.737 1261.23,431.184 1265.33,129.477 \n",
       "  1269.43,129.477 1273.54,431.184 1277.64,890.737 1281.75,1290.91 1285.85,1446.71 1289.95,1293.51 1294.06,914.436 1298.16,495.282 1302.27,231.225 1306.37,233.253 \n",
       "  1310.47,480.307 1314.58,838.39 1318.68,1133.32 1322.79,1237.57 1326.89,1127.04 1330.99,881.653 1335.1,634.281 1339.2,498.694 1343.31,515.646 1347.41,643.36 \n",
       "  1351.51,792.742 1355.62,883.378 1359.72,886.953 1363.83,834.607 1367.93,787.305 1372.03,790.206 1376.14,840.646 1380.24,890.003 1384.34,878.273 1388.45,779.434 \n",
       "  1392.55,628.024 1396.66,507.734 1400.76,505.365 1404.86,655.41 1408.97,908.559 1413.07,1146.12 1417.18,1237.32 1421.28,1111 1425.38,802.649 1429.49,447.784 \n",
       "  1433.59,220.622 1437.7,246.508 1441.8,533.041 1445.9,957.631 1450.01,1321.42 1454.11,1445.16 1458.22,1259.56 1462.32,843.764 1466.42,390.639 1470.53,114.647 \n",
       "  1474.63,147.452 1478.74,473.372 1482.84,937.087 1486.94,1319.7 1491.05,1445.05 1495.15,1263.24 1499.26,870.833 1503.36,459.149 1507.46,218.72 1511.57,248.434 \n",
       "  1515.67,513.975 1519.78,873.457 1523.88,1153.63 1527.98,1235.58 1532.09,1106.56 1536.19,854.746 1540.3,614.335 1544.4,493.622 1548.5,524.707 1552.61,658.904 \n",
       "  1556.71,805.416 1560.82,887.558 1564.92,883.317 1569.02,828.634 1573.13,784.95 1577.23,793.624 1581.33,846.684 1585.44,892.411 1589.54,872.244 1593.65,765.555 \n",
       "  1597.75,612.996 1601.85,501.048 1605.96,513.634 1610.06,677.633 1614.17,935.32 1618.27,1163.69 1622.37,1234.8 1626.48,1086.78 1630.58,766.409 1634.69,416.58 \n",
       "  1638.79,210.626 1642.89,264.512 1647,572.248 1651.1,1000.2 1655.21,1346.84 1659.31,1440.38 1663.41,1225.81 1667.52,796.399 1671.62,351.938 1675.73,103.035 \n",
       "  1679.83,168.48 1683.93,516.994 1688.04,982.588 1692.14,1345.81 1696.25,1440.18 1700.35,1230.79 1704.45,827.038 1708.56,424.81 1712.66,209.035 1716.77,266.067 \n",
       "  1720.87,548.609 1724.97,907.682 1729.08,1171.87 1733.18,1231.38 1737.29,1084.81 1741.39,827.977 1745.49,595.655 1749.6,490.14 1753.7,534.836 1757.81,674.557 \n",
       "  1761.91,817.396 1766.01,890.822 1770.12,879.154 1774.22,822.789 1778.32,783.163 1782.43,797.526 1786.53,852.656 1790.64,894.127 1794.74,865.293 1798.84,751.175 \n",
       "  1802.95,598.375 1807.05,495.657 1811.16,523.493 1815.26,700.852 1819.36,961.793 1823.47,1179.63 1827.57,1230 1831.68,1060.75 1835.78,729.845 1839.88,386.866 \n",
       "  1843.99,203.335 1848.09,285.168 1852.2,612.719 1856.3,1041.93 1860.4,1369.62 1864.51,1432.39 1868.61,1189.82 1872.72,748.874 1876.82,315.274 1880.92,94.6991 \n",
       "  1885.03,192.459 1889.13,561.835 1893.24,1027.02 1897.34,1369.12 1901.44,1432.14 1905.55,1196.32 1909.65,783.269 1913.76,392.424 1917.86,202.196 1921.96,286.046 \n",
       "  1926.07,584.028 1930.17,940.903 1934.28,1187.96 1938.38,1225.05 1942.48,1061.93 1946.59,801.483 1950.69,578.313 1954.8,488.23 1958.9,545.947 1963,690.223 \n",
       "  1967.11,828.631 1971.21,893.185 1975.31,874.526 1979.42,817.134 1983.52,781.962 1987.63,801.873 1991.73,858.494 1995.83,895.103 1999.94,857.434 2004.04,736.37 \n",
       "  2008.15,584.261 2012.25,491.625 2016.35,534.923 2020.46,724.961 2024.56,987.835 2028.67,1193.83 2032.77,1222.9 2036.87,1033.02 2040.98,693.141 2045.08,358.803 \n",
       "  2049.19,198.809 2053.29,308.391 2057.39,654.258 2061.5,1082.61 2065.6,1389.65 2069.71,1421.22 2073.81,1151.76 2077.91,701.422 2082.02,280.828 2086.12,89.6809 \n",
       "  2090.23,219.268 2094.33,607.671 2098.43,1070.16 2102.54,1389.51 2106.64,1421 2110.75,1160 2114.85,739.741 2118.95,362.137 2123.06,198.216 2127.16,308.249 \n",
       "  2131.27,620.047 2135.37,972.964 2139.47,1201.85 2143.58,1216.63 2147.68,1038.04 2151.79,775.398 2155.89,562.375 2159.99,487.866 2164.1,557.95 2168.2,705.808 \n",
       "  2172.3,839.074 2176.41,894.667 2180.51,869.496 2184.62,811.727 2188.72,781.359 2192.82,806.623 2196.93,864.129 2201.03,895.296 2205.14,848.686 2209.24,721.22 \n",
       "  2213.34,570.754 2217.45,489.012 2221.55,547.896 2225.66,749.849 2229.76,1013.3 2233.86,1206.19 2237.97,1213.51 2242.07,1003.72 2246.18,656.48 2250.28,332.548 \n",
       "  2254.38,197.093 2258.49,334.084 2262.59,696.667 2266.7,1122.04 2270.8,1406.81 2274.9,1406.91 2279.01,1111.81 2283.11,654.277 2287.22,248.773 2291.32,88.0053 \n",
       "  \n",
       "  \"/>\n",
       "<polygon clip-path=\"url(#clip1700)\" points=\"\n",
       "1989.93,251.724 2280.76,251.724 2280.76,130.764 1989.93,130.764 \n",
       "  \" fill=\"#ffffff\" fill-rule=\"evenodd\" fill-opacity=\"1\"/>\n",
       "<polyline clip-path=\"url(#clip1700)\" style=\"stroke:#000000; stroke-width:4; stroke-opacity:1; fill:none\" points=\"\n",
       "  1989.93,251.724 2280.76,251.724 2280.76,130.764 1989.93,130.764 1989.93,251.724 \n",
       "  \"/>\n",
       "<polyline clip-path=\"url(#clip1700)\" style=\"stroke:#009af9; stroke-width:4; stroke-opacity:1; fill:none\" points=\"\n",
       "  2013.93,191.244 2157.93,191.244 \n",
       "  \"/>\n",
       "<g clip-path=\"url(#clip1700)\">\n",
       "<text style=\"fill:#000000; fill-opacity:1; font-family:Arial,Helvetica Neue,Helvetica,sans-serif; font-size:48px; text-anchor:start;\" transform=\"rotate(0, 2181.93, 208.744)\" x=\"2181.93\" y=\"208.744\">y1</text>\n",
       "</g>\n",
       "</svg>\n"
      ]
     },
     "execution_count": 28,
     "metadata": {},
     "output_type": "execute_result"
    }
   ],
   "source": [
    "plot(x,y)"
   ]
  },
  {
   "cell_type": "code",
   "execution_count": null,
   "metadata": {},
   "outputs": [],
   "source": []
  }
 ],
 "metadata": {
  "kernelspec": {
   "display_name": "Julia 1.1.1",
   "language": "julia",
   "name": "julia-1.1"
  },
  "language_info": {
   "file_extension": ".jl",
   "mimetype": "application/julia",
   "name": "julia",
   "version": "1.1.1"
  }
 },
 "nbformat": 4,
 "nbformat_minor": 2
}
